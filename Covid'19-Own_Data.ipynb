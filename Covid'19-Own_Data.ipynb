{
 "cells": [
  {
   "cell_type": "code",
   "execution_count": 1,
   "metadata": {},
   "outputs": [],
   "source": [
    "import json\n",
    "import matplotlib.pyplot as plt\n",
    "import pandas as pd\n",
    "import numpy as np\n",
    "import requests\n",
    "import os\n",
    "import shutil\n",
    "from datetime import datetime"
   ]
  },
  {
   "cell_type": "markdown",
   "metadata": {},
   "source": [
    "# State Data"
   ]
  },
  {
   "cell_type": "code",
   "execution_count": 2,
   "metadata": {},
   "outputs": [],
   "source": [
    "api_url_data = 'https://api.covid19india.org/data.json'\n",
    "r_data = requests.get(api_url_data)\n",
    "data_time_series = r_data.json()"
   ]
  },
  {
   "cell_type": "code",
   "execution_count": 3,
   "metadata": {},
   "outputs": [
    {
     "data": {
      "text/plain": [
       "dict_keys(['cases_time_series', 'statewise', 'tested'])"
      ]
     },
     "execution_count": 3,
     "metadata": {},
     "output_type": "execute_result"
    }
   ],
   "source": [
    "data_time_series.keys()"
   ]
  },
  {
   "cell_type": "code",
   "execution_count": 4,
   "metadata": {},
   "outputs": [],
   "source": [
    "state_data = data_time_series.get('statewise')"
   ]
  },
  {
   "cell_type": "code",
   "execution_count": 5,
   "metadata": {},
   "outputs": [],
   "source": [
    "state_list = []\n",
    "confirmed_list = []\n",
    "recovered_list = []\n",
    "deaths_list = []\n",
    "lastupdatedtime_list = []\n",
    "\n",
    "for j in range(len(state_data)):\n",
    "    confirmed = state_data[j].get('confirmed')        \n",
    "    recovered = state_data[j].get('recovered')\n",
    "    deaths = state_data[j].get('deaths')\n",
    "    state = state_data[j].get('state')\n",
    "    lastupdatedtime = state_data[j].get('lastupdatedtime')\n",
    "    lastupdatedtime = lastupdatedtime[:-9]\n",
    "    \n",
    "    if confirmed != '0':\n",
    "        confirmed_list.append(confirmed)\n",
    "        recovered_list.append(recovered)\n",
    "        deaths_list.append(deaths)\n",
    "        state_list.append(state)\n",
    "        lastupdatedtime_list.append(lastupdatedtime)"
   ]
  },
  {
   "cell_type": "code",
   "execution_count": 6,
   "metadata": {},
   "outputs": [],
   "source": [
    "confirmed_list = np.array(confirmed_list, dtype = int)\n",
    "recovered_list = np.array(recovered_list, dtype = int)\n",
    "deaths_list = np.array(deaths_list, dtype = int)\n",
    "\n",
    "active = np.subtract(confirmed_list, np.add(recovered_list, deaths_list))\n",
    "death_rate = np.divide(deaths_list, confirmed_list)*100\n",
    "recovery_rate = np.divide(recovered_list, confirmed_list)*100\n",
    "\n",
    "death_rate_list = []\n",
    "recovery_rate_list = []\n",
    "\n",
    "for s in death_rate:\n",
    "    s = round(s,1)\n",
    "    death_rate_list = np.append(death_rate_list, s)\n",
    "for p in recovery_rate:\n",
    "    p = round(p,1)\n",
    "    recovery_rate_list = np.append(recovery_rate_list, p)"
   ]
  },
  {
   "cell_type": "code",
   "execution_count": 7,
   "metadata": {},
   "outputs": [
    {
     "data": {
      "text/html": [
       "<div>\n",
       "<style scoped>\n",
       "    .dataframe tbody tr th:only-of-type {\n",
       "        vertical-align: middle;\n",
       "    }\n",
       "\n",
       "    .dataframe tbody tr th {\n",
       "        vertical-align: top;\n",
       "    }\n",
       "\n",
       "    .dataframe thead th {\n",
       "        text-align: right;\n",
       "    }\n",
       "</style>\n",
       "<table border=\"1\" class=\"dataframe\">\n",
       "  <thead>\n",
       "    <tr style=\"text-align: right;\">\n",
       "      <th></th>\n",
       "      <th>States</th>\n",
       "      <th>Confirmed</th>\n",
       "      <th>Active</th>\n",
       "      <th>Recovered</th>\n",
       "      <th>Deaths</th>\n",
       "      <th>Recovery Rate(%)</th>\n",
       "      <th>Death Rate(%)</th>\n",
       "      <th>Last Updated</th>\n",
       "    </tr>\n",
       "  </thead>\n",
       "  <tbody>\n",
       "    <tr>\n",
       "      <th>0</th>\n",
       "      <td>Maharashtra</td>\n",
       "      <td>1364</td>\n",
       "      <td>1141</td>\n",
       "      <td>125</td>\n",
       "      <td>98</td>\n",
       "      <td>9.2</td>\n",
       "      <td>7.2</td>\n",
       "      <td>10/04/2020</td>\n",
       "    </tr>\n",
       "    <tr>\n",
       "      <th>1</th>\n",
       "      <td>Tamil Nadu</td>\n",
       "      <td>834</td>\n",
       "      <td>799</td>\n",
       "      <td>27</td>\n",
       "      <td>8</td>\n",
       "      <td>3.2</td>\n",
       "      <td>1.0</td>\n",
       "      <td>09/04/2020</td>\n",
       "    </tr>\n",
       "    <tr>\n",
       "      <th>2</th>\n",
       "      <td>Delhi</td>\n",
       "      <td>720</td>\n",
       "      <td>683</td>\n",
       "      <td>25</td>\n",
       "      <td>12</td>\n",
       "      <td>3.5</td>\n",
       "      <td>1.7</td>\n",
       "      <td>09/04/2020</td>\n",
       "    </tr>\n",
       "    <tr>\n",
       "      <th>3</th>\n",
       "      <td>Telangana</td>\n",
       "      <td>471</td>\n",
       "      <td>414</td>\n",
       "      <td>45</td>\n",
       "      <td>12</td>\n",
       "      <td>9.6</td>\n",
       "      <td>2.5</td>\n",
       "      <td>09/04/2020</td>\n",
       "    </tr>\n",
       "    <tr>\n",
       "      <th>4</th>\n",
       "      <td>Rajasthan</td>\n",
       "      <td>463</td>\n",
       "      <td>400</td>\n",
       "      <td>60</td>\n",
       "      <td>3</td>\n",
       "      <td>13.0</td>\n",
       "      <td>0.6</td>\n",
       "      <td>10/04/2020</td>\n",
       "    </tr>\n",
       "    <tr>\n",
       "      <th>5</th>\n",
       "      <td>Kerala</td>\n",
       "      <td>357</td>\n",
       "      <td>258</td>\n",
       "      <td>97</td>\n",
       "      <td>2</td>\n",
       "      <td>27.2</td>\n",
       "      <td>0.6</td>\n",
       "      <td>09/04/2020</td>\n",
       "    </tr>\n",
       "    <tr>\n",
       "      <th>6</th>\n",
       "      <td>Uttar Pradesh</td>\n",
       "      <td>410</td>\n",
       "      <td>375</td>\n",
       "      <td>31</td>\n",
       "      <td>4</td>\n",
       "      <td>7.6</td>\n",
       "      <td>1.0</td>\n",
       "      <td>09/04/2020</td>\n",
       "    </tr>\n",
       "    <tr>\n",
       "      <th>7</th>\n",
       "      <td>Andhra Pradesh</td>\n",
       "      <td>363</td>\n",
       "      <td>348</td>\n",
       "      <td>10</td>\n",
       "      <td>5</td>\n",
       "      <td>2.8</td>\n",
       "      <td>1.4</td>\n",
       "      <td>09/04/2020</td>\n",
       "    </tr>\n",
       "    <tr>\n",
       "      <th>8</th>\n",
       "      <td>Madhya Pradesh</td>\n",
       "      <td>411</td>\n",
       "      <td>353</td>\n",
       "      <td>25</td>\n",
       "      <td>33</td>\n",
       "      <td>6.1</td>\n",
       "      <td>8.0</td>\n",
       "      <td>09/04/2020</td>\n",
       "    </tr>\n",
       "    <tr>\n",
       "      <th>9</th>\n",
       "      <td>Karnataka</td>\n",
       "      <td>197</td>\n",
       "      <td>161</td>\n",
       "      <td>30</td>\n",
       "      <td>6</td>\n",
       "      <td>15.2</td>\n",
       "      <td>3.0</td>\n",
       "      <td>09/04/2020</td>\n",
       "    </tr>\n",
       "    <tr>\n",
       "      <th>10</th>\n",
       "      <td>Gujarat</td>\n",
       "      <td>262</td>\n",
       "      <td>218</td>\n",
       "      <td>26</td>\n",
       "      <td>18</td>\n",
       "      <td>9.9</td>\n",
       "      <td>6.9</td>\n",
       "      <td>09/04/2020</td>\n",
       "    </tr>\n",
       "    <tr>\n",
       "      <th>11</th>\n",
       "      <td>Haryana</td>\n",
       "      <td>170</td>\n",
       "      <td>136</td>\n",
       "      <td>32</td>\n",
       "      <td>2</td>\n",
       "      <td>18.8</td>\n",
       "      <td>1.2</td>\n",
       "      <td>09/04/2020</td>\n",
       "    </tr>\n",
       "    <tr>\n",
       "      <th>12</th>\n",
       "      <td>Jammu and Kashmir</td>\n",
       "      <td>184</td>\n",
       "      <td>174</td>\n",
       "      <td>6</td>\n",
       "      <td>4</td>\n",
       "      <td>3.3</td>\n",
       "      <td>2.2</td>\n",
       "      <td>09/04/2020</td>\n",
       "    </tr>\n",
       "    <tr>\n",
       "      <th>13</th>\n",
       "      <td>Punjab</td>\n",
       "      <td>130</td>\n",
       "      <td>102</td>\n",
       "      <td>18</td>\n",
       "      <td>10</td>\n",
       "      <td>13.8</td>\n",
       "      <td>7.7</td>\n",
       "      <td>09/04/2020</td>\n",
       "    </tr>\n",
       "    <tr>\n",
       "      <th>14</th>\n",
       "      <td>West Bengal</td>\n",
       "      <td>117</td>\n",
       "      <td>96</td>\n",
       "      <td>16</td>\n",
       "      <td>5</td>\n",
       "      <td>13.7</td>\n",
       "      <td>4.3</td>\n",
       "      <td>09/04/2020</td>\n",
       "    </tr>\n",
       "    <tr>\n",
       "      <th>15</th>\n",
       "      <td>Odisha</td>\n",
       "      <td>48</td>\n",
       "      <td>45</td>\n",
       "      <td>2</td>\n",
       "      <td>1</td>\n",
       "      <td>4.2</td>\n",
       "      <td>2.1</td>\n",
       "      <td>10/04/2020</td>\n",
       "    </tr>\n",
       "    <tr>\n",
       "      <th>16</th>\n",
       "      <td>Bihar</td>\n",
       "      <td>58</td>\n",
       "      <td>42</td>\n",
       "      <td>15</td>\n",
       "      <td>1</td>\n",
       "      <td>25.9</td>\n",
       "      <td>1.7</td>\n",
       "      <td>09/04/2020</td>\n",
       "    </tr>\n",
       "    <tr>\n",
       "      <th>17</th>\n",
       "      <td>Uttarakhand</td>\n",
       "      <td>35</td>\n",
       "      <td>30</td>\n",
       "      <td>5</td>\n",
       "      <td>0</td>\n",
       "      <td>14.3</td>\n",
       "      <td>0.0</td>\n",
       "      <td>08/04/2020</td>\n",
       "    </tr>\n",
       "    <tr>\n",
       "      <th>18</th>\n",
       "      <td>Assam</td>\n",
       "      <td>29</td>\n",
       "      <td>29</td>\n",
       "      <td>0</td>\n",
       "      <td>0</td>\n",
       "      <td>0.0</td>\n",
       "      <td>0.0</td>\n",
       "      <td>08/04/2020</td>\n",
       "    </tr>\n",
       "    <tr>\n",
       "      <th>19</th>\n",
       "      <td>Chandigarh</td>\n",
       "      <td>18</td>\n",
       "      <td>11</td>\n",
       "      <td>7</td>\n",
       "      <td>0</td>\n",
       "      <td>38.9</td>\n",
       "      <td>0.0</td>\n",
       "      <td>07/04/2020</td>\n",
       "    </tr>\n",
       "    <tr>\n",
       "      <th>20</th>\n",
       "      <td>Himachal Pradesh</td>\n",
       "      <td>28</td>\n",
       "      <td>24</td>\n",
       "      <td>2</td>\n",
       "      <td>2</td>\n",
       "      <td>7.1</td>\n",
       "      <td>7.1</td>\n",
       "      <td>09/04/2020</td>\n",
       "    </tr>\n",
       "    <tr>\n",
       "      <th>21</th>\n",
       "      <td>Ladakh</td>\n",
       "      <td>14</td>\n",
       "      <td>4</td>\n",
       "      <td>10</td>\n",
       "      <td>0</td>\n",
       "      <td>71.4</td>\n",
       "      <td>0.0</td>\n",
       "      <td>06/04/2020</td>\n",
       "    </tr>\n",
       "    <tr>\n",
       "      <th>22</th>\n",
       "      <td>Andaman and Nicobar Islands</td>\n",
       "      <td>11</td>\n",
       "      <td>1</td>\n",
       "      <td>10</td>\n",
       "      <td>0</td>\n",
       "      <td>90.9</td>\n",
       "      <td>0.0</td>\n",
       "      <td>30/03/2020</td>\n",
       "    </tr>\n",
       "    <tr>\n",
       "      <th>23</th>\n",
       "      <td>Chhattisgarh</td>\n",
       "      <td>18</td>\n",
       "      <td>9</td>\n",
       "      <td>9</td>\n",
       "      <td>0</td>\n",
       "      <td>50.0</td>\n",
       "      <td>0.0</td>\n",
       "      <td>09/04/2020</td>\n",
       "    </tr>\n",
       "    <tr>\n",
       "      <th>24</th>\n",
       "      <td>Goa</td>\n",
       "      <td>7</td>\n",
       "      <td>7</td>\n",
       "      <td>0</td>\n",
       "      <td>0</td>\n",
       "      <td>0.0</td>\n",
       "      <td>0.0</td>\n",
       "      <td>04/04/2020</td>\n",
       "    </tr>\n",
       "    <tr>\n",
       "      <th>25</th>\n",
       "      <td>Puducherry</td>\n",
       "      <td>5</td>\n",
       "      <td>4</td>\n",
       "      <td>1</td>\n",
       "      <td>0</td>\n",
       "      <td>20.0</td>\n",
       "      <td>0.0</td>\n",
       "      <td>07/04/2020</td>\n",
       "    </tr>\n",
       "    <tr>\n",
       "      <th>26</th>\n",
       "      <td>Jharkhand</td>\n",
       "      <td>13</td>\n",
       "      <td>12</td>\n",
       "      <td>0</td>\n",
       "      <td>1</td>\n",
       "      <td>0.0</td>\n",
       "      <td>7.7</td>\n",
       "      <td>09/04/2020</td>\n",
       "    </tr>\n",
       "    <tr>\n",
       "      <th>27</th>\n",
       "      <td>Manipur</td>\n",
       "      <td>2</td>\n",
       "      <td>1</td>\n",
       "      <td>1</td>\n",
       "      <td>0</td>\n",
       "      <td>50.0</td>\n",
       "      <td>0.0</td>\n",
       "      <td>06/04/2020</td>\n",
       "    </tr>\n",
       "    <tr>\n",
       "      <th>28</th>\n",
       "      <td>Mizoram</td>\n",
       "      <td>1</td>\n",
       "      <td>1</td>\n",
       "      <td>0</td>\n",
       "      <td>0</td>\n",
       "      <td>0.0</td>\n",
       "      <td>0.0</td>\n",
       "      <td>26/03/2020</td>\n",
       "    </tr>\n",
       "    <tr>\n",
       "      <th>29</th>\n",
       "      <td>Arunachal Pradesh</td>\n",
       "      <td>1</td>\n",
       "      <td>1</td>\n",
       "      <td>0</td>\n",
       "      <td>0</td>\n",
       "      <td>0.0</td>\n",
       "      <td>0.0</td>\n",
       "      <td>02/04/2020</td>\n",
       "    </tr>\n",
       "    <tr>\n",
       "      <th>30</th>\n",
       "      <td>Dadra and Nagar Haveli</td>\n",
       "      <td>1</td>\n",
       "      <td>1</td>\n",
       "      <td>0</td>\n",
       "      <td>0</td>\n",
       "      <td>0.0</td>\n",
       "      <td>0.0</td>\n",
       "      <td>06/04/2020</td>\n",
       "    </tr>\n",
       "    <tr>\n",
       "      <th>31</th>\n",
       "      <td>Tripura</td>\n",
       "      <td>1</td>\n",
       "      <td>1</td>\n",
       "      <td>0</td>\n",
       "      <td>0</td>\n",
       "      <td>0.0</td>\n",
       "      <td>0.0</td>\n",
       "      <td>06/04/2020</td>\n",
       "    </tr>\n",
       "  </tbody>\n",
       "</table>\n",
       "</div>"
      ],
      "text/plain": [
       "                         States  Confirmed  Active  Recovered  Deaths  \\\n",
       "0                   Maharashtra       1364    1141        125      98   \n",
       "1                    Tamil Nadu        834     799         27       8   \n",
       "2                         Delhi        720     683         25      12   \n",
       "3                     Telangana        471     414         45      12   \n",
       "4                     Rajasthan        463     400         60       3   \n",
       "5                        Kerala        357     258         97       2   \n",
       "6                 Uttar Pradesh        410     375         31       4   \n",
       "7                Andhra Pradesh        363     348         10       5   \n",
       "8                Madhya Pradesh        411     353         25      33   \n",
       "9                     Karnataka        197     161         30       6   \n",
       "10                      Gujarat        262     218         26      18   \n",
       "11                      Haryana        170     136         32       2   \n",
       "12            Jammu and Kashmir        184     174          6       4   \n",
       "13                       Punjab        130     102         18      10   \n",
       "14                  West Bengal        117      96         16       5   \n",
       "15                       Odisha         48      45          2       1   \n",
       "16                        Bihar         58      42         15       1   \n",
       "17                  Uttarakhand         35      30          5       0   \n",
       "18                        Assam         29      29          0       0   \n",
       "19                   Chandigarh         18      11          7       0   \n",
       "20             Himachal Pradesh         28      24          2       2   \n",
       "21                       Ladakh         14       4         10       0   \n",
       "22  Andaman and Nicobar Islands         11       1         10       0   \n",
       "23                 Chhattisgarh         18       9          9       0   \n",
       "24                          Goa          7       7          0       0   \n",
       "25                   Puducherry          5       4          1       0   \n",
       "26                    Jharkhand         13      12          0       1   \n",
       "27                      Manipur          2       1          1       0   \n",
       "28                      Mizoram          1       1          0       0   \n",
       "29            Arunachal Pradesh          1       1          0       0   \n",
       "30       Dadra and Nagar Haveli          1       1          0       0   \n",
       "31                      Tripura          1       1          0       0   \n",
       "\n",
       "    Recovery Rate(%)  Death Rate(%) Last Updated  \n",
       "0                9.2            7.2   10/04/2020  \n",
       "1                3.2            1.0   09/04/2020  \n",
       "2                3.5            1.7   09/04/2020  \n",
       "3                9.6            2.5   09/04/2020  \n",
       "4               13.0            0.6   10/04/2020  \n",
       "5               27.2            0.6   09/04/2020  \n",
       "6                7.6            1.0   09/04/2020  \n",
       "7                2.8            1.4   09/04/2020  \n",
       "8                6.1            8.0   09/04/2020  \n",
       "9               15.2            3.0   09/04/2020  \n",
       "10               9.9            6.9   09/04/2020  \n",
       "11              18.8            1.2   09/04/2020  \n",
       "12               3.3            2.2   09/04/2020  \n",
       "13              13.8            7.7   09/04/2020  \n",
       "14              13.7            4.3   09/04/2020  \n",
       "15               4.2            2.1   10/04/2020  \n",
       "16              25.9            1.7   09/04/2020  \n",
       "17              14.3            0.0   08/04/2020  \n",
       "18               0.0            0.0   08/04/2020  \n",
       "19              38.9            0.0   07/04/2020  \n",
       "20               7.1            7.1   09/04/2020  \n",
       "21              71.4            0.0   06/04/2020  \n",
       "22              90.9            0.0   30/03/2020  \n",
       "23              50.0            0.0   09/04/2020  \n",
       "24               0.0            0.0   04/04/2020  \n",
       "25              20.0            0.0   07/04/2020  \n",
       "26               0.0            7.7   09/04/2020  \n",
       "27              50.0            0.0   06/04/2020  \n",
       "28               0.0            0.0   26/03/2020  \n",
       "29               0.0            0.0   02/04/2020  \n",
       "30               0.0            0.0   06/04/2020  \n",
       "31               0.0            0.0   06/04/2020  "
      ]
     },
     "execution_count": 7,
     "metadata": {},
     "output_type": "execute_result"
    }
   ],
   "source": [
    "state_data = {'States':state_list[1:], 'Confirmed':confirmed_list[1:], 'Active':active[1:], 'Recovered':recovered_list[1:], 'Deaths':deaths_list[1:], 'Recovery Rate(%)':recovery_rate_list[1:], 'Death Rate(%)':death_rate_list[1:], 'Last Updated':lastupdatedtime_list[1:]}\n",
    "df_state_data = pd.DataFrame(state_data)\n",
    "df_state_data.to_csv('State_data.csv')\n",
    "df_state_data.to_html('State_data.html', border=3, justify = 'center', index=False)\n",
    "df_state_data"
   ]
  },
  {
   "cell_type": "markdown",
   "metadata": {},
   "source": [
    "# Case Time Plot:"
   ]
  },
  {
   "cell_type": "code",
   "execution_count": 8,
   "metadata": {},
   "outputs": [],
   "source": [
    "date_list = np.array(['30 January ', '31 January ', '01 February ', '02 February ',\n",
    "       '03 February ', '04 February ', '05 February ', '06 February ',\n",
    "       '07 February ', '08 February ', '09 February ', '10 February ',\n",
    "       '11 February ', '12 February ', '13 February ', '14 February ',\n",
    "       '15 February ', '16 February ', '17 February ', '18 February ',\n",
    "       '19 February ', '20 February ', '21 February ', '22 February ',\n",
    "       '23 February ', '24 February ', '25 February ', '26 February ',\n",
    "       '27 February ', '28 February ', '29 February ', '01 March ',\n",
    "       '02 March ', '03 March ', '04 March ', '05 March ', '06 March ',\n",
    "       '07 March ', '08 March ', '09 March ', '10 March ', '11 March ',\n",
    "       '12 March ', '13 March ', '14 March ', '15 March ', '16 March ',\n",
    "       '17 March ', '18 March ', '19 March ', '20 March ', '21 March ',\n",
    "       '22 March ', '23 March ', '24 March ', '25 March ', '26 March ',\n",
    "       '27 March ', '28 March ', '29 March ', '30 March ', '31 March ',\n",
    "       '01 April ', '02 April ', '03 April ', '04 April ', '05 April ',\n",
    "       '06 April ', '07 April ', '08 April ', '09 April '])"
   ]
  },
  {
   "cell_type": "code",
   "execution_count": 9,
   "metadata": {},
   "outputs": [],
   "source": [
    "# date_list_splitted = []\n",
    "# for i in date_list:\n",
    "#     date_splitted = i[0:2]\n",
    "#     date_list_splitted.append(date_splitted)"
   ]
  },
  {
   "cell_type": "code",
   "execution_count": 10,
   "metadata": {},
   "outputs": [],
   "source": [
    "totalconfirmed_list = np.array([   1,    1,    1,    2,    3,    3,    3,    3,    3,    3,    3,\n",
    "          3,    3,    3,    3,    3,    3,    3,    3,    3,    3,    3,\n",
    "          3,    3,    3,    3,    3,    3,    3,    3,    3,    3,    5,\n",
    "          6,   28,   30,   31,   34,   39,   48,   63,   70,   82,   91,\n",
    "        107,  112,  127,  146,  171,  198,  258,  334,  403,  497,  571,\n",
    "        657,  730,  883, 1024, 1139, 1329, 1635, 2059, 2545, 3105, 3684,\n",
    "       4289, 4778, 5351, 5916, 6725])\n",
    "\n",
    "dailyconfirmed_list = np.array([  1,   0,   0,   1,   1,   0,   0,   0,   0,   0,   0,   0,   0,\n",
    "         0,   0,   0,   0,   0,   0,   0,   0,   0,   0,   0,   0,   0,\n",
    "         0,   0,   0,   0,   0,   0,   2,   1,  22,   2,   1,   3,   5,\n",
    "         9,  15,   7,  12,   9,  16,   5,  15,  19,  25,  27,  60,  76,\n",
    "        69,  94,  74,  86,  73, 153, 141, 115, 190, 306, 424, 486, 560,\n",
    "       579, 605, 489, 573, 565, 809])\n",
    "\n",
    "totalrecovered_list = np.array([  0,   0,   0,   0,   0,   0,   0,   0,   0,   0,   0,   0,   0,\n",
    "         0,   1,   1,   1,   2,   2,   2,   2,   3,   3,   3,   3,   3,\n",
    "         3,   3,   3,   3,   3,   3,   3,   3,   3,   3,   3,   3,   3,\n",
    "         3,   4,   4,   4,  10,  10,  13,  14,  15,  15,  20,  23,  23,\n",
    "        23,  25,  40,  43,  50,  75,  85, 102, 137, 150, 169, 191, 230,\n",
    "       286, 329, 394, 469, 565, 620])\n",
    "\n",
    "dailyrecovered_list = np.array([ 0,  0,  0,  0,  0,  0,  0,  0,  0,  0,  0,  0,  0,  0,  1,  0,  0,\n",
    "        1,  0,  0,  0,  1,  0,  0,  0,  0,  0,  0,  0,  0,  0,  0,  0,  0,\n",
    "        0,  0,  0,  0,  0,  0,  1,  0,  0,  6,  0,  3,  1,  1,  0,  5,  3,\n",
    "        0,  0,  2, 15,  3,  7, 25, 10, 17, 35, 13, 19, 22, 39, 56, 43, 65,\n",
    "       75, 96, 55])\n",
    "\n",
    "totaldeceased_list = np.array([  0,   0,   0,   0,   0,   0,   0,   0,   0,   0,   0,   0,   0,\n",
    "         0,   0,   0,   0,   0,   0,   0,   0,   0,   0,   0,   0,   0,\n",
    "         0,   0,   0,   0,   0,   0,   0,   0,   0,   0,   0,   0,   0,\n",
    "         0,   0,   0,   1,   1,   2,   2,   2,   3,   3,   4,   4,   4,\n",
    "         7,   9,  10,  11,  16,  19,  24,  27,  43,  49,  56,  72,  86,\n",
    "        99, 121, 137, 163, 183, 226])\n",
    "\n",
    "dailydeceased_list = np.array([ 0,  0,  0,  0,  0,  0,  0,  0,  0,  0,  0,  0,  0,  0,  0,  0,  0,\n",
    "        0,  0,  0,  0,  0,  0,  0,  0,  0,  0,  0,  0,  0,  0,  0,  0,  0,\n",
    "        0,  0,  0,  0,  0,  0,  0,  0,  1,  0,  1,  0,  0,  1,  0,  1,  0,\n",
    "        0,  3,  2,  1,  1,  5,  3,  5,  3, 16,  6,  7, 16, 14, 13, 22, 16,\n",
    "       26, 20, 46])"
   ]
  },
  {
   "cell_type": "code",
   "execution_count": 11,
   "metadata": {},
   "outputs": [],
   "source": [
    "total_confirmation_increased_today = confirmed_list[0] - totalconfirmed_list[-1]\n",
    "total_recovery_increased_today = recovered_list[0] - totalrecovered_list[-1]\n",
    "total_death_increased_today = deaths_list[0] - totaldeceased_list[-1]"
   ]
  },
  {
   "cell_type": "code",
   "execution_count": 12,
   "metadata": {},
   "outputs": [
    {
     "data": {
      "text/plain": [
       "array([227,  98,   8,  12,  12,   3,   2,   4,   5,  33,   6,  18,   2,\n",
       "         4,  10,   5,   1,   1,   0,   0,   0,   2,   0,   0,   0,   0,\n",
       "         0,   1,   0,   0,   0,   0,   0])"
      ]
     },
     "execution_count": 12,
     "metadata": {},
     "output_type": "execute_result"
    }
   ],
   "source": [
    "deaths_list"
   ]
  },
  {
   "cell_type": "code",
   "execution_count": 13,
   "metadata": {},
   "outputs": [
    {
     "data": {
      "text/html": [
       "<div>\n",
       "<style scoped>\n",
       "    .dataframe tbody tr th:only-of-type {\n",
       "        vertical-align: middle;\n",
       "    }\n",
       "\n",
       "    .dataframe tbody tr th {\n",
       "        vertical-align: top;\n",
       "    }\n",
       "\n",
       "    .dataframe thead th {\n",
       "        text-align: right;\n",
       "    }\n",
       "</style>\n",
       "<table border=\"1\" class=\"dataframe\">\n",
       "  <thead>\n",
       "    <tr style=\"text-align: right;\">\n",
       "      <th></th>\n",
       "      <th>Confirmed</th>\n",
       "      <th>Active</th>\n",
       "      <th>Recovered</th>\n",
       "      <th>Deaths</th>\n",
       "      <th>Recovery Rate(%)</th>\n",
       "      <th>Death Rate(%)</th>\n",
       "    </tr>\n",
       "  </thead>\n",
       "  <tbody>\n",
       "    <tr>\n",
       "      <th>0</th>\n",
       "      <td>6743 (+18)</td>\n",
       "      <td>5881</td>\n",
       "      <td>635 (+15)</td>\n",
       "      <td>227 (+1)</td>\n",
       "      <td>9.4</td>\n",
       "      <td>3.4</td>\n",
       "    </tr>\n",
       "  </tbody>\n",
       "</table>\n",
       "</div>"
      ],
      "text/plain": [
       "    Confirmed  Active  Recovered    Deaths  Recovery Rate(%)  Death Rate(%)\n",
       "0  6743 (+18)    5881  635 (+15)  227 (+1)               9.4            3.4"
      ]
     },
     "execution_count": 13,
     "metadata": {},
     "output_type": "execute_result"
    }
   ],
   "source": [
    "total_data = {'Confirmed':str(confirmed_list[0]) + ' (+' + str(total_confirmation_increased_today) + ')', 'Active':active[0], 'Recovered':str(recovered_list[0]) + ' (+' + str(total_recovery_increased_today) + ')', 'Deaths':str(deaths_list[0]) + ' (+' + str(total_death_increased_today) + ')', 'Recovery Rate(%)':recovery_rate_list[0], 'Death Rate(%)':death_rate_list[0]}\n",
    "df_total_data = pd.DataFrame(total_data, index=[0])\n",
    "df_total_data.to_csv('total_data.csv')\n",
    "df_total_data.to_html('total_data.html', border=7, justify = 'center', index=False)\n",
    "df_total_data"
   ]
  },
  {
   "cell_type": "code",
   "execution_count": 14,
   "metadata": {},
   "outputs": [],
   "source": [
    "date_list = np.append(date_list,'10 April')\n",
    "dailyconfirmed_list = np.append(dailyconfirmed_list, total_confirmation_increased_today)\n",
    "dailyrecovered_list = np.append(dailyrecovered_list, total_recovery_increased_today)\n",
    "dailydeceased_list = np.append(dailydeceased_list, total_death_increased_today)\n",
    "totalconfirmed_list = np.append(totalconfirmed_list, confirmed_list[0])\n",
    "totalrecovered_list = np.append(totalrecovered_list, recovered_list[0])\n",
    "totaldeceased_list = np.append(totaldeceased_list, deaths_list[0])"
   ]
  },
  {
   "cell_type": "code",
   "execution_count": 15,
   "metadata": {},
   "outputs": [],
   "source": [
    "date_list_splitted = []\n",
    "for i in date_list:\n",
    "    date_splitted = i[0:2]\n",
    "    date_list_splitted.append(date_splitted)"
   ]
  },
  {
   "cell_type": "code",
   "execution_count": 16,
   "metadata": {},
   "outputs": [
    {
     "data": {
      "text/html": [
       "<div>\n",
       "<style scoped>\n",
       "    .dataframe tbody tr th:only-of-type {\n",
       "        vertical-align: middle;\n",
       "    }\n",
       "\n",
       "    .dataframe tbody tr th {\n",
       "        vertical-align: top;\n",
       "    }\n",
       "\n",
       "    .dataframe thead th {\n",
       "        text-align: right;\n",
       "    }\n",
       "</style>\n",
       "<table border=\"1\" class=\"dataframe\">\n",
       "  <thead>\n",
       "    <tr style=\"text-align: right;\">\n",
       "      <th></th>\n",
       "      <th>Date</th>\n",
       "      <th>Daily Confirmations</th>\n",
       "      <th>Daily Recoveries</th>\n",
       "      <th>Daily Deaths</th>\n",
       "      <th>Total Confirmations</th>\n",
       "      <th>Total Recoveries</th>\n",
       "      <th>Total Deaths</th>\n",
       "    </tr>\n",
       "  </thead>\n",
       "  <tbody>\n",
       "    <tr>\n",
       "      <th>0</th>\n",
       "      <td>28 March</td>\n",
       "      <td>141</td>\n",
       "      <td>10</td>\n",
       "      <td>5</td>\n",
       "      <td>1024</td>\n",
       "      <td>85</td>\n",
       "      <td>24</td>\n",
       "    </tr>\n",
       "    <tr>\n",
       "      <th>1</th>\n",
       "      <td>29 March</td>\n",
       "      <td>115</td>\n",
       "      <td>17</td>\n",
       "      <td>3</td>\n",
       "      <td>1139</td>\n",
       "      <td>102</td>\n",
       "      <td>27</td>\n",
       "    </tr>\n",
       "    <tr>\n",
       "      <th>2</th>\n",
       "      <td>30 March</td>\n",
       "      <td>190</td>\n",
       "      <td>35</td>\n",
       "      <td>16</td>\n",
       "      <td>1329</td>\n",
       "      <td>137</td>\n",
       "      <td>43</td>\n",
       "    </tr>\n",
       "    <tr>\n",
       "      <th>3</th>\n",
       "      <td>31 March</td>\n",
       "      <td>306</td>\n",
       "      <td>13</td>\n",
       "      <td>6</td>\n",
       "      <td>1635</td>\n",
       "      <td>150</td>\n",
       "      <td>49</td>\n",
       "    </tr>\n",
       "    <tr>\n",
       "      <th>4</th>\n",
       "      <td>01 April</td>\n",
       "      <td>424</td>\n",
       "      <td>19</td>\n",
       "      <td>7</td>\n",
       "      <td>2059</td>\n",
       "      <td>169</td>\n",
       "      <td>56</td>\n",
       "    </tr>\n",
       "    <tr>\n",
       "      <th>5</th>\n",
       "      <td>02 April</td>\n",
       "      <td>486</td>\n",
       "      <td>22</td>\n",
       "      <td>16</td>\n",
       "      <td>2545</td>\n",
       "      <td>191</td>\n",
       "      <td>72</td>\n",
       "    </tr>\n",
       "    <tr>\n",
       "      <th>6</th>\n",
       "      <td>03 April</td>\n",
       "      <td>560</td>\n",
       "      <td>39</td>\n",
       "      <td>14</td>\n",
       "      <td>3105</td>\n",
       "      <td>230</td>\n",
       "      <td>86</td>\n",
       "    </tr>\n",
       "    <tr>\n",
       "      <th>7</th>\n",
       "      <td>04 April</td>\n",
       "      <td>579</td>\n",
       "      <td>56</td>\n",
       "      <td>13</td>\n",
       "      <td>3684</td>\n",
       "      <td>286</td>\n",
       "      <td>99</td>\n",
       "    </tr>\n",
       "    <tr>\n",
       "      <th>8</th>\n",
       "      <td>05 April</td>\n",
       "      <td>605</td>\n",
       "      <td>43</td>\n",
       "      <td>22</td>\n",
       "      <td>4289</td>\n",
       "      <td>329</td>\n",
       "      <td>121</td>\n",
       "    </tr>\n",
       "    <tr>\n",
       "      <th>9</th>\n",
       "      <td>06 April</td>\n",
       "      <td>489</td>\n",
       "      <td>65</td>\n",
       "      <td>16</td>\n",
       "      <td>4778</td>\n",
       "      <td>394</td>\n",
       "      <td>137</td>\n",
       "    </tr>\n",
       "    <tr>\n",
       "      <th>10</th>\n",
       "      <td>07 April</td>\n",
       "      <td>573</td>\n",
       "      <td>75</td>\n",
       "      <td>26</td>\n",
       "      <td>5351</td>\n",
       "      <td>469</td>\n",
       "      <td>163</td>\n",
       "    </tr>\n",
       "    <tr>\n",
       "      <th>11</th>\n",
       "      <td>08 April</td>\n",
       "      <td>565</td>\n",
       "      <td>96</td>\n",
       "      <td>20</td>\n",
       "      <td>5916</td>\n",
       "      <td>565</td>\n",
       "      <td>183</td>\n",
       "    </tr>\n",
       "    <tr>\n",
       "      <th>12</th>\n",
       "      <td>09 April</td>\n",
       "      <td>809</td>\n",
       "      <td>55</td>\n",
       "      <td>46</td>\n",
       "      <td>6725</td>\n",
       "      <td>620</td>\n",
       "      <td>226</td>\n",
       "    </tr>\n",
       "    <tr>\n",
       "      <th>13</th>\n",
       "      <td>10 April</td>\n",
       "      <td>18</td>\n",
       "      <td>15</td>\n",
       "      <td>1</td>\n",
       "      <td>6743</td>\n",
       "      <td>635</td>\n",
       "      <td>227</td>\n",
       "    </tr>\n",
       "  </tbody>\n",
       "</table>\n",
       "</div>"
      ],
      "text/plain": [
       "         Date  Daily Confirmations  Daily Recoveries  Daily Deaths  \\\n",
       "0   28 March                   141                10             5   \n",
       "1   29 March                   115                17             3   \n",
       "2   30 March                   190                35            16   \n",
       "3   31 March                   306                13             6   \n",
       "4   01 April                   424                19             7   \n",
       "5   02 April                   486                22            16   \n",
       "6   03 April                   560                39            14   \n",
       "7   04 April                   579                56            13   \n",
       "8   05 April                   605                43            22   \n",
       "9   06 April                   489                65            16   \n",
       "10  07 April                   573                75            26   \n",
       "11  08 April                   565                96            20   \n",
       "12  09 April                   809                55            46   \n",
       "13   10 April                   18                15             1   \n",
       "\n",
       "    Total Confirmations  Total Recoveries  Total Deaths  \n",
       "0                  1024                85            24  \n",
       "1                  1139               102            27  \n",
       "2                  1329               137            43  \n",
       "3                  1635               150            49  \n",
       "4                  2059               169            56  \n",
       "5                  2545               191            72  \n",
       "6                  3105               230            86  \n",
       "7                  3684               286            99  \n",
       "8                  4289               329           121  \n",
       "9                  4778               394           137  \n",
       "10                 5351               469           163  \n",
       "11                 5916               565           183  \n",
       "12                 6725               620           226  \n",
       "13                 6743               635           227  "
      ]
     },
     "execution_count": 16,
     "metadata": {},
     "output_type": "execute_result"
    }
   ],
   "source": [
    "day_range = 14\n",
    "\n",
    "daily_data = {'Date':date_list[-day_range:], 'Daily Confirmations':dailyconfirmed_list[-day_range:], 'Daily Recoveries':dailyrecovered_list[-day_range:], 'Daily Deaths':dailydeceased_list[-day_range:], 'Total Confirmations':totalconfirmed_list[-day_range:], 'Total Recoveries':totalrecovered_list[-day_range:], 'Total Deaths':totaldeceased_list[-day_range:]}\n",
    "df_daily_data = pd.DataFrame(daily_data)\n",
    "df_daily_data.to_csv('daily_data.csv')\n",
    "df_daily_data.to_html('daily_data.html', border=3, justify = 'center', index=False)\n",
    "df_daily_data"
   ]
  },
  {
   "cell_type": "code",
   "execution_count": 17,
   "metadata": {},
   "outputs": [
    {
     "data": {
      "image/png": "[encoded data removed]",
      "text/plain": [
       "<Figure size 936x936 with 6 Axes>"
      ]
     },
     "metadata": {
      "needs_background": "light"
     },
     "output_type": "display_data"
    }
   ],
   "source": [
    "day_range = 14\n",
    "\n",
    "plt.figure(figsize=(13,13))\n",
    "\n",
    "plt.subplot(3,2,1)\n",
    "plt.plot(date_list_splitted[-day_range:], totalconfirmed_list[-day_range:], color='blue', label='Total Confirmation')\n",
    "# plt.scatter(date_list_splitted[-day_range:], totalconfirmed_list[-day_range:], color='black')\n",
    "plt.fill_between(date_list_splitted[-day_range:], totalconfirmed_list[-day_range:], color='blue')\n",
    "plt.xlabel('Dates', fontsize=15)\n",
    "plt.ylabel('No. of Victims', fontsize=15)\n",
    "plt.legend()\n",
    "\n",
    "plt.subplot(3,2,2)\n",
    "plt.bar(date_list_splitted[-day_range:], dailyconfirmed_list[-day_range:], color='blue', label='Daily Confirmation')\n",
    "plt.plot(date_list_splitted[-day_range:], dailyconfirmed_list[-day_range:], color='blue')\n",
    "plt.scatter(date_list_splitted[-day_range:], dailyconfirmed_list[-day_range:], color='black')\n",
    "# plt.fill_between(date_list[-day_range:], dailyconfirmed_list[-day_range:], color='blue')\n",
    "plt.xlabel('Dates', fontsize=15)\n",
    "plt.ylabel('No. of Victims', fontsize=15)\n",
    "plt.legend()\n",
    "\n",
    "plt.subplot(3,2,3)\n",
    "plt.plot(date_list_splitted[-day_range:], totalrecovered_list[-day_range:], color='green', label='Total Recovery')\n",
    "# plt.scatter(date_list_splitted[-day_range:], totalrecovered_list[-day_range:], color='black')\n",
    "plt.fill_between(date_list_splitted[-day_range:], totalrecovered_list[-day_range:], color='green')\n",
    "plt.xlabel('Dates', fontsize=15)\n",
    "plt.ylabel('Victims', fontsize=15)\n",
    "plt.legend()\n",
    "\n",
    "plt.subplot(3,2,4)\n",
    "plt.bar(date_list_splitted[-day_range:], dailyrecovered_list[-day_range:], color='green', label='Daily Recovery')\n",
    "plt.plot(date_list_splitted[-day_range:], dailyrecovered_list[-day_range:], color='green')\n",
    "plt.scatter(date_list_splitted[-day_range:], dailyrecovered_list[-day_range:], color='black')\n",
    "# plt.fill_between(date_list[-day_range:], dailyrecovered_list[-day_range:], color='green')\n",
    "plt.xlabel('Dates', fontsize=15)\n",
    "plt.ylabel('No. of Victims', fontsize=15)\n",
    "plt.legend()\n",
    "\n",
    "plt.subplot(3,2,5)\n",
    "plt.plot(date_list_splitted[-day_range:], totaldeceased_list[-day_range:], color='red', label='Total Death')\n",
    "# plt.scatter(date_list_splitted[-day_range:], totaldeceased_list[-day_range:], color='black')\n",
    "plt.fill_between(date_list_splitted[-day_range:], totaldeceased_list[-day_range:], color='red')\n",
    "plt.xlabel('Dates', fontsize=15)\n",
    "plt.ylabel('No. of Victims', fontsize=15)\n",
    "plt.legend()\n",
    "\n",
    "plt.subplot(3,2,6)\n",
    "plt.bar(date_list_splitted[-day_range:], dailydeceased_list[-day_range:], color='red', label='Daily Death')\n",
    "plt.plot(date_list_splitted[-day_range:], dailydeceased_list[-day_range:], color='red')\n",
    "plt.scatter(date_list_splitted[-day_range:], dailydeceased_list[-day_range:], color='black')\n",
    "# plt.fill_between(date_list[-day_range:], dailydeceased_list[-day_range:], color='black')\n",
    "plt.xlabel('Dates', fontsize=15)\n",
    "plt.ylabel('No. of Victims', fontsize=15)\n",
    "plt.legend()\n",
    "\n",
    "plt.suptitle(\"Real Time Trend analysis of Covid'19 in Non-Uniform Scale\", fontsize=15, x=0.5,y=0.91)\n",
    "plt.savefig('plot1.png')"
   ]
  },
  {
   "cell_type": "code",
   "execution_count": 18,
   "metadata": {},
   "outputs": [
    {
     "data": {
      "image/png": "[encoded data removed]",
      "text/plain": [
       "<Figure size 936x936 with 2 Axes>"
      ]
     },
     "metadata": {
      "needs_background": "light"
     },
     "output_type": "display_data"
    }
   ],
   "source": [
    "day_range = 14\n",
    "\n",
    "plt.figure(figsize=(13,13))\n",
    "\n",
    "plt.subplot(2,1,1)\n",
    "plt.plot(date_list[-day_range:], totalconfirmed_list[-day_range:], color='blue', label='Total Confirmation')\n",
    "plt.scatter(date_list[-day_range:], totalconfirmed_list[-day_range:], color='black')\n",
    "plt.plot(date_list[-day_range:], totalrecovered_list[-day_range:], color='green', label='Total Recovery')\n",
    "plt.plot(date_list[-day_range:], totaldeceased_list[-day_range:], color='red', label='Total Death')\n",
    "plt.ylabel('No. of Victims', fontsize=15)\n",
    "plt.legend()\n",
    "\n",
    "plt.subplot(2,1,2)\n",
    "plt.plot(date_list[-day_range:], dailyconfirmed_list[-day_range:], color='blue', label='Daily Confirmation')\n",
    "plt.scatter(date_list[-day_range:], dailyconfirmed_list[-day_range:], color='black')\n",
    "plt.plot(date_list[-day_range:], dailyrecovered_list[-day_range:], color='green', label='Daily Recovery')\n",
    "plt.plot(date_list[-day_range:], dailydeceased_list[-day_range:], color='red', label='Daily Death')\n",
    "plt.ylabel('No. of Victims', fontsize=15)\n",
    "plt.legend()\n",
    "\n",
    "plt.suptitle(\"Real Time Trend analysis of Covid'19 in Uniform Scale\", fontsize=15, x=0.5,y=0.9)\n",
    "plt.savefig('plot2.png')"
   ]
  },
  {
   "cell_type": "code",
   "execution_count": 19,
   "metadata": {},
   "outputs": [],
   "source": [
    "time = []\n",
    "for i in range(len(totalconfirmed_list)):\n",
    "    time.append(i)"
   ]
  },
  {
   "cell_type": "code",
   "execution_count": 20,
   "metadata": {},
   "outputs": [
    {
     "data": {
      "text/plain": [
       "<matplotlib.collections.PathCollection at 0x7ff0f6aa3910>"
      ]
     },
     "execution_count": 20,
     "metadata": {},
     "output_type": "execute_result"
    },
    {
     "data": {
      "image/png": "[encoded data removed]",
      "text/plain": [
       "<Figure size 432x288 with 1 Axes>"
      ]
     },
     "metadata": {
      "needs_background": "light"
     },
     "output_type": "display_data"
    }
   ],
   "source": [
    "plt.scatter(time[-14:-1], totalconfirmed_list[-14:-1])"
   ]
  },
  {
   "cell_type": "code",
   "execution_count": 21,
   "metadata": {},
   "outputs": [
    {
     "data": {
      "text/plain": [
       "59"
      ]
     },
     "execution_count": 21,
     "metadata": {},
     "output_type": "execute_result"
    }
   ],
   "source": [
    "len(time) - len(time[-14:-1])"
   ]
  },
  {
   "cell_type": "code",
   "execution_count": 22,
   "metadata": {},
   "outputs": [],
   "source": [
    "from scipy.optimize import curve_fit\n",
    "\n",
    "def func(x,a,b):\n",
    "    return a*x+b\n",
    "\n",
    "init_guess = [1,1]\n",
    "popt, pcov = curve_fit(func, time[-14:-1], totalconfirmed_list[-14:-1], init_guess)"
   ]
  },
  {
   "cell_type": "code",
   "execution_count": 23,
   "metadata": {},
   "outputs": [
    {
     "name": "stdout",
     "output_type": "stream",
     "text": [
      "490.14835212264325\n",
      "-28017.2637666184\n"
     ]
    }
   ],
   "source": [
    "a = popt[0]\n",
    "b = popt[1]\n",
    "print(a)\n",
    "print(b)"
   ]
  },
  {
   "cell_type": "code",
   "execution_count": 24,
   "metadata": {},
   "outputs": [
    {
     "data": {
      "text/plain": [
       "[<matplotlib.lines.Line2D at 0x7ff0f9540ad0>]"
      ]
     },
     "execution_count": 24,
     "metadata": {},
     "output_type": "execute_result"
    },
    {
     "data": {
      "image/png": "[encoded data removed]",
      "text/plain": [
       "<Figure size 432x288 with 1 Axes>"
      ]
     },
     "metadata": {
      "needs_background": "light"
     },
     "output_type": "display_data"
    }
   ],
   "source": [
    "x_fit = np.arange(59, 59+len(time[-14:-1]))\n",
    "plt.scatter(time[-14:-1], totalconfirmed_list[-14:-1])\n",
    "plt.plot(x_fit, func(x_fit,a,b))"
   ]
  },
  {
   "cell_type": "code",
   "execution_count": 25,
   "metadata": {},
   "outputs": [
    {
     "data": {
      "text/plain": [
       "10704"
      ]
     },
     "execution_count": 25,
     "metadata": {},
     "output_type": "execute_result"
    }
   ],
   "source": [
    "day = 7\n",
    "x = len(time) + day\n",
    "pred_daily = a*x+b\n",
    "pred_daily = int(pred_daily)\n",
    "pred_daily"
   ]
  },
  {
   "cell_type": "markdown",
   "metadata": {},
   "source": [
    "# ICMR Reports"
   ]
  },
  {
   "cell_type": "code",
   "execution_count": 26,
   "metadata": {},
   "outputs": [],
   "source": [
    "report_date_list = np.array(['13/03/2020', '18/03/2020', '19/03/2020', '19/03/2020',\n",
    "       '20/03/2020', '20/03/2020', '21/03/2020', '21/03/2020',\n",
    "       '22/03/2020', '22/03/2020', '23/03/2020', '23/03/2020',\n",
    "       '24/03/2020', '24/03/2020', '25/03/2020', '25/03/2020',\n",
    "       '27/03/2020', '01/04/2020', '02/04/2020', '03/04/2020',\n",
    "       '03/04/2020', '04/04/2020', '05/04/2020', '06/04/2020',\n",
    "       '07/04/2020', '08/04/2020', '09/04/2020'])\n",
    "\n",
    "totalsamplestested_list = np.array([  6500,  13125,  13316,  14175,  14376,  15404,  15701,  16911,\n",
    "        16999,  18127,  18383,  20707,  20864,  22694,  22928,  25144,\n",
    "        27688,  47951,  55851,  56680,  69245,  79950,  89534, 101068,\n",
    "       114015, 127919, 144910])\n",
    "\n",
    "totalpositivecases_list = np.array([  78,  150,  168,  182,  206,  236,  271,  315,  341,  396,  415,\n",
    "        471,  482,  536,  539,  581,  691, 1637, 2056, 2183, 2653, 3113,\n",
    "       3554, 4135, 4616, 5114, 5705])"
   ]
  },
  {
   "cell_type": "code",
   "execution_count": 27,
   "metadata": {},
   "outputs": [
    {
     "data": {
      "text/html": [
       "<div>\n",
       "<style scoped>\n",
       "    .dataframe tbody tr th:only-of-type {\n",
       "        vertical-align: middle;\n",
       "    }\n",
       "\n",
       "    .dataframe tbody tr th {\n",
       "        vertical-align: top;\n",
       "    }\n",
       "\n",
       "    .dataframe thead th {\n",
       "        text-align: right;\n",
       "    }\n",
       "</style>\n",
       "<table border=\"1\" class=\"dataframe\">\n",
       "  <thead>\n",
       "    <tr style=\"text-align: right;\">\n",
       "      <th></th>\n",
       "      <th>Date</th>\n",
       "      <th>Total Sample Tested</th>\n",
       "      <th>Total Positive Cases</th>\n",
       "    </tr>\n",
       "  </thead>\n",
       "  <tbody>\n",
       "    <tr>\n",
       "      <th>0</th>\n",
       "      <td>24/03/2020</td>\n",
       "      <td>22694</td>\n",
       "      <td>536</td>\n",
       "    </tr>\n",
       "    <tr>\n",
       "      <th>1</th>\n",
       "      <td>25/03/2020</td>\n",
       "      <td>22928</td>\n",
       "      <td>539</td>\n",
       "    </tr>\n",
       "    <tr>\n",
       "      <th>2</th>\n",
       "      <td>25/03/2020</td>\n",
       "      <td>25144</td>\n",
       "      <td>581</td>\n",
       "    </tr>\n",
       "    <tr>\n",
       "      <th>3</th>\n",
       "      <td>27/03/2020</td>\n",
       "      <td>27688</td>\n",
       "      <td>691</td>\n",
       "    </tr>\n",
       "    <tr>\n",
       "      <th>4</th>\n",
       "      <td>01/04/2020</td>\n",
       "      <td>47951</td>\n",
       "      <td>1637</td>\n",
       "    </tr>\n",
       "    <tr>\n",
       "      <th>5</th>\n",
       "      <td>02/04/2020</td>\n",
       "      <td>55851</td>\n",
       "      <td>2056</td>\n",
       "    </tr>\n",
       "    <tr>\n",
       "      <th>6</th>\n",
       "      <td>03/04/2020</td>\n",
       "      <td>56680</td>\n",
       "      <td>2183</td>\n",
       "    </tr>\n",
       "    <tr>\n",
       "      <th>7</th>\n",
       "      <td>03/04/2020</td>\n",
       "      <td>69245</td>\n",
       "      <td>2653</td>\n",
       "    </tr>\n",
       "    <tr>\n",
       "      <th>8</th>\n",
       "      <td>04/04/2020</td>\n",
       "      <td>79950</td>\n",
       "      <td>3113</td>\n",
       "    </tr>\n",
       "    <tr>\n",
       "      <th>9</th>\n",
       "      <td>05/04/2020</td>\n",
       "      <td>89534</td>\n",
       "      <td>3554</td>\n",
       "    </tr>\n",
       "    <tr>\n",
       "      <th>10</th>\n",
       "      <td>06/04/2020</td>\n",
       "      <td>101068</td>\n",
       "      <td>4135</td>\n",
       "    </tr>\n",
       "    <tr>\n",
       "      <th>11</th>\n",
       "      <td>07/04/2020</td>\n",
       "      <td>114015</td>\n",
       "      <td>4616</td>\n",
       "    </tr>\n",
       "    <tr>\n",
       "      <th>12</th>\n",
       "      <td>08/04/2020</td>\n",
       "      <td>127919</td>\n",
       "      <td>5114</td>\n",
       "    </tr>\n",
       "    <tr>\n",
       "      <th>13</th>\n",
       "      <td>09/04/2020</td>\n",
       "      <td>144910</td>\n",
       "      <td>5705</td>\n",
       "    </tr>\n",
       "  </tbody>\n",
       "</table>\n",
       "</div>"
      ],
      "text/plain": [
       "          Date  Total Sample Tested  Total Positive Cases\n",
       "0   24/03/2020                22694                   536\n",
       "1   25/03/2020                22928                   539\n",
       "2   25/03/2020                25144                   581\n",
       "3   27/03/2020                27688                   691\n",
       "4   01/04/2020                47951                  1637\n",
       "5   02/04/2020                55851                  2056\n",
       "6   03/04/2020                56680                  2183\n",
       "7   03/04/2020                69245                  2653\n",
       "8   04/04/2020                79950                  3113\n",
       "9   05/04/2020                89534                  3554\n",
       "10  06/04/2020               101068                  4135\n",
       "11  07/04/2020               114015                  4616\n",
       "12  08/04/2020               127919                  5114\n",
       "13  09/04/2020               144910                  5705"
      ]
     },
     "execution_count": 27,
     "metadata": {},
     "output_type": "execute_result"
    }
   ],
   "source": [
    "reports = {\"Date\":report_date_list[-day_range:], \"Total Sample Tested\":totalsamplestested_list[-day_range:], \"Total Positive Cases\":totalpositivecases_list[-day_range:]}\n",
    "df_reports = pd.DataFrame(reports)\n",
    "df_reports.to_csv('ICMR_report_data.csv')\n",
    "df_reports.to_html('ICMR_report_data.html', border=3, index=False, justify = 'center')\n",
    "df_reports"
   ]
  },
  {
   "cell_type": "code",
   "execution_count": 28,
   "metadata": {},
   "outputs": [
    {
     "data": {
      "image/png": "[encoded data removed]",
      "text/plain": [
       "<Figure size 648x504 with 1 Axes>"
      ]
     },
     "metadata": {
      "needs_background": "light"
     },
     "output_type": "display_data"
    }
   ],
   "source": [
    "plt.figure(figsize = (9,7))\n",
    "plt.scatter(totalsamplestested_list, totalpositivecases_list, color='black')\n",
    "plt.plot(totalsamplestested_list, totalpositivecases_list, color='blue')\n",
    "plt.xlabel('No. of samples tested', fontsize=15)\n",
    "plt.ylabel('No. of positive cases', fontsize=15)\n",
    "plt.title(\"Trend analysis of Covid'19 from ICMR Report\", fontsize=15, y=1)\n",
    "plt.savefig('ICMR_stat.png')"
   ]
  },
  {
   "cell_type": "markdown",
   "metadata": {},
   "source": [
    "### Future Prediction using ICMR Data"
   ]
  },
  {
   "cell_type": "code",
   "execution_count": 29,
   "metadata": {},
   "outputs": [],
   "source": [
    "from scipy.optimize import curve_fit\n",
    "\n",
    "def func(x,a,b):\n",
    "    return a*x+b\n",
    "\n",
    "init_guess = [1,1]\n",
    "popt, pcov = curve_fit(func, totalsamplestested_list, totalpositivecases_list, init_guess)\n",
    "a = popt[0]\n",
    "b = popt[1]"
   ]
  },
  {
   "cell_type": "code",
   "execution_count": 30,
   "metadata": {},
   "outputs": [],
   "source": [
    "location = ['USA', 'Italy', 'Germany', 'South Korea']\n",
    "test_world = [1762032, 721732, 918460, 466804]\n",
    "conf_world = [367758, 132547, 103375, 10331]\n",
    "validation = totalsamplestested_list[-5:]"
   ]
  },
  {
   "cell_type": "code",
   "execution_count": 31,
   "metadata": {},
   "outputs": [],
   "source": [
    "y_pred = []\n",
    "for items in test_world:\n",
    "    pred = a*items + b\n",
    "    y_pred.append(pred)"
   ]
  },
  {
   "cell_type": "code",
   "execution_count": 32,
   "metadata": {},
   "outputs": [
    {
     "data": {
      "text/plain": [
       "array([76172, 30962, 39511, 19883])"
      ]
     },
     "execution_count": 32,
     "metadata": {},
     "output_type": "execute_result"
    }
   ],
   "source": [
    "y_pred = np.array(y_pred, dtype=int)\n",
    "y_pred"
   ]
  },
  {
   "cell_type": "code",
   "execution_count": 33,
   "metadata": {},
   "outputs": [
    {
     "data": {
      "text/html": [
       "<div>\n",
       "<style scoped>\n",
       "    .dataframe tbody tr th:only-of-type {\n",
       "        vertical-align: middle;\n",
       "    }\n",
       "\n",
       "    .dataframe tbody tr th {\n",
       "        vertical-align: top;\n",
       "    }\n",
       "\n",
       "    .dataframe thead th {\n",
       "        text-align: right;\n",
       "    }\n",
       "</style>\n",
       "<table border=\"1\" class=\"dataframe\">\n",
       "  <thead>\n",
       "    <tr style=\"text-align: right;\">\n",
       "      <th></th>\n",
       "      <th>Location</th>\n",
       "      <th>Total Confirmed Cases</th>\n",
       "      <th>Total samples Tested</th>\n",
       "    </tr>\n",
       "  </thead>\n",
       "  <tbody>\n",
       "    <tr>\n",
       "      <th>0</th>\n",
       "      <td>USA</td>\n",
       "      <td>367758</td>\n",
       "      <td>1762032</td>\n",
       "    </tr>\n",
       "    <tr>\n",
       "      <th>1</th>\n",
       "      <td>Italy</td>\n",
       "      <td>132547</td>\n",
       "      <td>721732</td>\n",
       "    </tr>\n",
       "    <tr>\n",
       "      <th>2</th>\n",
       "      <td>Germany</td>\n",
       "      <td>103375</td>\n",
       "      <td>918460</td>\n",
       "    </tr>\n",
       "    <tr>\n",
       "      <th>3</th>\n",
       "      <td>South Korea</td>\n",
       "      <td>10331</td>\n",
       "      <td>466804</td>\n",
       "    </tr>\n",
       "  </tbody>\n",
       "</table>\n",
       "</div>"
      ],
      "text/plain": [
       "      Location  Total Confirmed Cases  Total samples Tested\n",
       "0          USA                 367758               1762032\n",
       "1        Italy                 132547                721732\n",
       "2      Germany                 103375                918460\n",
       "3  South Korea                  10331                466804"
      ]
     },
     "execution_count": 33,
     "metadata": {},
     "output_type": "execute_result"
    }
   ],
   "source": [
    "test_report_comparison = {'Location':location, 'Total Confirmed Cases':conf_world, 'Total samples Tested':test_world}\n",
    "df_test_report_comparison = pd.DataFrame(test_report_comparison)\n",
    "df_test_report_comparison.to_csv('test_report_comparison.csv')\n",
    "df_test_report_comparison.to_html('test_report_comparison.html', border=7, index=False, justify = 'center')\n",
    "df_test_report_comparison"
   ]
  },
  {
   "cell_type": "code",
   "execution_count": 34,
   "metadata": {},
   "outputs": [],
   "source": [
    "usa_vs_india_loc = ['USA', 'India']\n",
    "usa_vs_india_conf = [conf_world[0], y_pred[0]]\n",
    "\n",
    "italy_vs_india_loc = ['Italy', 'India']\n",
    "italy_vs_india_conf = [conf_world[1], y_pred[1]]\n",
    "\n",
    "germany_vs_india_loc = ['Germany', 'India']\n",
    "germany_vs_india_conf = [conf_world[2], y_pred[2]]\n",
    "\n",
    "sk_vs_india_loc = ['South Korea', 'India']\n",
    "sk_vs_india_conf = [conf_world[3], y_pred[3]]"
   ]
  },
  {
   "cell_type": "code",
   "execution_count": 35,
   "metadata": {},
   "outputs": [
    {
     "data": {
      "image/png": "[encoded data removed]",
      "text/plain": [
       "<Figure size 720x720 with 4 Axes>"
      ]
     },
     "metadata": {
      "needs_background": "light"
     },
     "output_type": "display_data"
    }
   ],
   "source": [
    "plt.figure(figsize=(10,10))\n",
    "pad = 2.0\n",
    "\n",
    "plt.subplot(2,2,1)\n",
    "plt.bar(usa_vs_india_loc, usa_vs_india_conf, color=['red', 'blue'])\n",
    "plt.title(\"Test Samples: \"+str(test_world[0]), fontsize=15)\n",
    "plt.ylabel(\"No. of Confirmations\", fontsize=15)\n",
    "plt.tight_layout(pad)\n",
    "\n",
    "plt.subplot(2,2,2)\n",
    "plt.bar(italy_vs_india_loc, italy_vs_india_conf, color=['red', 'blue'])\n",
    "plt.title(\"Test Samples: \"+str(test_world[1]), fontsize=15)\n",
    "plt.ylabel(\"No. of Confirmations\", fontsize=15)\n",
    "plt.tight_layout(pad)\n",
    "\n",
    "plt.subplot(2,2,3)\n",
    "plt.bar(germany_vs_india_loc, germany_vs_india_conf, color=['red', 'blue'])\n",
    "plt.title(\"Test Samples: \"+str(test_world[2]), fontsize=15)\n",
    "plt.ylabel(\"No. of Confirmations\", fontsize=15)\n",
    "plt.tight_layout(pad)\n",
    "\n",
    "plt.subplot(2,2,4)\n",
    "plt.bar(sk_vs_india_loc, sk_vs_india_conf, color=['red', 'blue'])\n",
    "plt.title(\"Test Samples: \"+str(test_world[3]), fontsize=15)\n",
    "plt.ylabel(\"No. of Confirmations\", fontsize=15)\n",
    "plt.tight_layout(pad)\n",
    "\n",
    "plt.suptitle(\"Comparing India with other countries based on our Predictions\", fontsize=16, x=0.5,y=1)\n",
    "plt.savefig('compare.png')"
   ]
  },
  {
   "cell_type": "code",
   "execution_count": 36,
   "metadata": {},
   "outputs": [],
   "source": [
    "time_icmr = []\n",
    "for i in range(len(report_date_list)):\n",
    "    time_icmr.append(i)"
   ]
  },
  {
   "cell_type": "code",
   "execution_count": 37,
   "metadata": {},
   "outputs": [
    {
     "data": {
      "text/plain": [
       "<matplotlib.collections.PathCollection at 0x7ff0e9a50310>"
      ]
     },
     "execution_count": 37,
     "metadata": {},
     "output_type": "execute_result"
    },
    {
     "data": {
      "image/png": "[encoded data removed]",
      "text/plain": [
       "<Figure size 432x288 with 1 Axes>"
      ]
     },
     "metadata": {
      "needs_background": "light"
     },
     "output_type": "display_data"
    }
   ],
   "source": [
    "plt.scatter(time_icmr[-11:], totalpositivecases_list[-11:])"
   ]
  },
  {
   "cell_type": "code",
   "execution_count": 38,
   "metadata": {},
   "outputs": [],
   "source": [
    "from scipy.optimize import curve_fit\n",
    "\n",
    "def func(x,a,b):\n",
    "    return a*x+b\n",
    "\n",
    "popt, pcov = curve_fit(func, time_icmr[-11:], totalpositivecases_list[-11:])\n",
    "a_icmr = popt[0]\n",
    "b_icmr = popt[1]"
   ]
  },
  {
   "cell_type": "code",
   "execution_count": 39,
   "metadata": {},
   "outputs": [
    {
     "name": "stdout",
     "output_type": "stream",
     "text": [
      "467.8454527191759\n",
      "-6601.390867810646\n"
     ]
    }
   ],
   "source": [
    "print(a_icmr)\n",
    "print(b_icmr)"
   ]
  },
  {
   "cell_type": "code",
   "execution_count": 40,
   "metadata": {},
   "outputs": [
    {
     "data": {
      "text/plain": [
       "11"
      ]
     },
     "execution_count": 40,
     "metadata": {},
     "output_type": "execute_result"
    }
   ],
   "source": [
    "len(totalconfirmed_list[-11:])"
   ]
  },
  {
   "cell_type": "code",
   "execution_count": 41,
   "metadata": {},
   "outputs": [
    {
     "data": {
      "text/plain": [
       "[<matplotlib.lines.Line2D at 0x7ff0e993cf90>]"
      ]
     },
     "execution_count": 41,
     "metadata": {},
     "output_type": "execute_result"
    },
    {
     "data": {
      "image/png": "[encoded data removed]",
      "text/plain": [
       "<Figure size 432x288 with 1 Axes>"
      ]
     },
     "metadata": {
      "needs_background": "light"
     },
     "output_type": "display_data"
    }
   ],
   "source": [
    "x_fit = np.arange(16, 16+len(time_icmr[-11:]))\n",
    "plt.scatter(time_icmr[-11:], totalpositivecases_list[-11:])\n",
    "plt.plot(x_fit, func(x_fit, a_icmr, b_icmr))"
   ]
  },
  {
   "cell_type": "code",
   "execution_count": 42,
   "metadata": {},
   "outputs": [
    {
     "data": {
      "text/plain": [
       "26"
      ]
     },
     "execution_count": 42,
     "metadata": {},
     "output_type": "execute_result"
    }
   ],
   "source": [
    "time_icmr[-1]"
   ]
  },
  {
   "cell_type": "code",
   "execution_count": 43,
   "metadata": {},
   "outputs": [
    {
     "data": {
      "text/plain": [
       "8837"
      ]
     },
     "execution_count": 43,
     "metadata": {},
     "output_type": "execute_result"
    }
   ],
   "source": [
    "x = time_icmr[-1] + day\n",
    "pred_icmr_ts = a_icmr*x + b_icmr\n",
    "pred_icmr_ts = int(pred_icmr_ts)\n",
    "pred_icmr_ts"
   ]
  },
  {
   "cell_type": "code",
   "execution_count": 44,
   "metadata": {},
   "outputs": [
    {
     "data": {
      "text/plain": [
       "10704"
      ]
     },
     "execution_count": 44,
     "metadata": {},
     "output_type": "execute_result"
    }
   ],
   "source": [
    "pred_daily"
   ]
  },
  {
   "cell_type": "code",
   "execution_count": 45,
   "metadata": {},
   "outputs": [],
   "source": [
    "data_source = ['Data of Confirmations from Media & Govt. Websites', 'Data of confirmations from ICMR']\n",
    "data_predict = [pred_daily, pred_icmr_ts]"
   ]
  },
  {
   "cell_type": "code",
   "execution_count": 46,
   "metadata": {},
   "outputs": [
    {
     "data": {
      "text/html": [
       "<div>\n",
       "<style scoped>\n",
       "    .dataframe tbody tr th:only-of-type {\n",
       "        vertical-align: middle;\n",
       "    }\n",
       "\n",
       "    .dataframe tbody tr th {\n",
       "        vertical-align: top;\n",
       "    }\n",
       "\n",
       "    .dataframe thead th {\n",
       "        text-align: right;\n",
       "    }\n",
       "</style>\n",
       "<table border=\"1\" class=\"dataframe\">\n",
       "  <thead>\n",
       "    <tr style=\"text-align: right;\">\n",
       "      <th></th>\n",
       "      <th>Data Source</th>\n",
       "      <th>Prediction of Confirmations after 7 days</th>\n",
       "    </tr>\n",
       "  </thead>\n",
       "  <tbody>\n",
       "    <tr>\n",
       "      <th>0</th>\n",
       "      <td>Data of Confirmations from Media &amp; Govt. Websites</td>\n",
       "      <td>10704</td>\n",
       "    </tr>\n",
       "    <tr>\n",
       "      <th>1</th>\n",
       "      <td>Data of confirmations from ICMR</td>\n",
       "      <td>8837</td>\n",
       "    </tr>\n",
       "  </tbody>\n",
       "</table>\n",
       "</div>"
      ],
      "text/plain": [
       "                                         Data Source  \\\n",
       "0  Data of Confirmations from Media & Govt. Websites   \n",
       "1                    Data of confirmations from ICMR   \n",
       "\n",
       "   Prediction of Confirmations after 7 days  \n",
       "0                                     10704  \n",
       "1                                      8837  "
      ]
     },
     "execution_count": 46,
     "metadata": {},
     "output_type": "execute_result"
    }
   ],
   "source": [
    "predictions = {'Data Source':data_source, 'Prediction of Confirmations after {} days'.format(day):data_predict}\n",
    "df_predictions = pd.DataFrame(predictions)\n",
    "df_predictions.to_csv('pred_icmr_ts.csv')\n",
    "df_predictions.to_html('pred_icmr_ts.html', border=7, justify = 'center', index=False)\n",
    "df_predictions"
   ]
  },
  {
   "cell_type": "markdown",
   "metadata": {},
   "source": [
    "# West Bengal"
   ]
  },
  {
   "cell_type": "code",
   "execution_count": 47,
   "metadata": {},
   "outputs": [
    {
     "data": {
      "text/html": [
       "<div>\n",
       "<style scoped>\n",
       "    .dataframe tbody tr th:only-of-type {\n",
       "        vertical-align: middle;\n",
       "    }\n",
       "\n",
       "    .dataframe tbody tr th {\n",
       "        vertical-align: top;\n",
       "    }\n",
       "\n",
       "    .dataframe thead th {\n",
       "        text-align: right;\n",
       "    }\n",
       "</style>\n",
       "<table border=\"1\" class=\"dataframe\">\n",
       "  <thead>\n",
       "    <tr style=\"text-align: right;\">\n",
       "      <th></th>\n",
       "      <th>State</th>\n",
       "      <th>Confirmed</th>\n",
       "      <th>Active</th>\n",
       "      <th>Recovered</th>\n",
       "      <th>Deaths</th>\n",
       "      <th>Recovery Rate(%)</th>\n",
       "      <th>Death Rate(%)</th>\n",
       "      <th>Last Updated</th>\n",
       "    </tr>\n",
       "  </thead>\n",
       "  <tbody>\n",
       "    <tr>\n",
       "      <th>0</th>\n",
       "      <td>West Bengal</td>\n",
       "      <td>117</td>\n",
       "      <td>96</td>\n",
       "      <td>16</td>\n",
       "      <td>5</td>\n",
       "      <td>13.7</td>\n",
       "      <td>4.3</td>\n",
       "      <td>09/04/2020</td>\n",
       "    </tr>\n",
       "  </tbody>\n",
       "</table>\n",
       "</div>"
      ],
      "text/plain": [
       "         State  Confirmed  Active  Recovered  Deaths  Recovery Rate(%)  \\\n",
       "0  West Bengal        117      96         16       5              13.7   \n",
       "\n",
       "   Death Rate(%) Last Updated  \n",
       "0            4.3   09/04/2020  "
      ]
     },
     "execution_count": 47,
     "metadata": {},
     "output_type": "execute_result"
    }
   ],
   "source": [
    "wb_state_data = {'State':state_list[15], 'Confirmed':confirmed_list[15], 'Active':active[15], 'Recovered':recovered_list[15], 'Deaths':deaths_list[15], 'Recovery Rate(%)':recovery_rate_list[15], 'Death Rate(%)':death_rate_list[15], 'Last Updated':lastupdatedtime_list[15]}\n",
    "df_wb_state_data = pd.DataFrame(wb_state_data, index=[0])\n",
    "df_wb_state_data.to_csv('wb_state_data.csv')\n",
    "df_wb_state_data.to_html('wb_state_data.html', border=7, justify = 'center', index=False)\n",
    "df_wb_state_data"
   ]
  },
  {
   "cell_type": "code",
   "execution_count": 48,
   "metadata": {},
   "outputs": [],
   "source": [
    "api_url_state = 'https://api.covid19india.org/v2/state_district_wise.json'\n",
    "r_state = requests.get(api_url_state)\n",
    "data_state = r_state.json()"
   ]
  },
  {
   "cell_type": "code",
   "execution_count": 49,
   "metadata": {},
   "outputs": [],
   "source": [
    "districtData = data_state[16].get('districtData')"
   ]
  },
  {
   "cell_type": "code",
   "execution_count": 50,
   "metadata": {},
   "outputs": [],
   "source": [
    "district_list = []\n",
    "confirmed_list_dist = []\n",
    "\n",
    "for z in range(len(districtData)):\n",
    "    district = districtData[z].get('district')\n",
    "    district_list.append(district)\n",
    "    confirmed = districtData[z].get('confirmed')\n",
    "    confirmed_list_dist.append(confirmed)"
   ]
  },
  {
   "cell_type": "code",
   "execution_count": 51,
   "metadata": {},
   "outputs": [],
   "source": [
    "confirmed_list_dist = np.array(confirmed_list_dist, dtype=int)"
   ]
  },
  {
   "cell_type": "code",
   "execution_count": 52,
   "metadata": {},
   "outputs": [],
   "source": [
    "district_list[-1] = 'Others'"
   ]
  },
  {
   "cell_type": "code",
   "execution_count": 53,
   "metadata": {},
   "outputs": [
    {
     "data": {
      "text/html": [
       "<div>\n",
       "<style scoped>\n",
       "    .dataframe tbody tr th:only-of-type {\n",
       "        vertical-align: middle;\n",
       "    }\n",
       "\n",
       "    .dataframe tbody tr th {\n",
       "        vertical-align: top;\n",
       "    }\n",
       "\n",
       "    .dataframe thead th {\n",
       "        text-align: right;\n",
       "    }\n",
       "</style>\n",
       "<table border=\"1\" class=\"dataframe\">\n",
       "  <thead>\n",
       "    <tr style=\"text-align: right;\">\n",
       "      <th></th>\n",
       "      <th>Districts</th>\n",
       "      <th>Confirmed</th>\n",
       "    </tr>\n",
       "  </thead>\n",
       "  <tbody>\n",
       "    <tr>\n",
       "      <th>0</th>\n",
       "      <td>Kolkata</td>\n",
       "      <td>11</td>\n",
       "    </tr>\n",
       "    <tr>\n",
       "      <th>1</th>\n",
       "      <td>North 24 Parganas</td>\n",
       "      <td>4</td>\n",
       "    </tr>\n",
       "    <tr>\n",
       "      <th>2</th>\n",
       "      <td>Nadia</td>\n",
       "      <td>5</td>\n",
       "    </tr>\n",
       "    <tr>\n",
       "      <th>3</th>\n",
       "      <td>Medinipur East</td>\n",
       "      <td>3</td>\n",
       "    </tr>\n",
       "    <tr>\n",
       "      <th>4</th>\n",
       "      <td>Kalimpong</td>\n",
       "      <td>1</td>\n",
       "    </tr>\n",
       "    <tr>\n",
       "      <th>5</th>\n",
       "      <td>Hooghly</td>\n",
       "      <td>1</td>\n",
       "    </tr>\n",
       "    <tr>\n",
       "      <th>6</th>\n",
       "      <td>Howrah</td>\n",
       "      <td>1</td>\n",
       "    </tr>\n",
       "    <tr>\n",
       "      <th>7</th>\n",
       "      <td>South 24 Parganas</td>\n",
       "      <td>1</td>\n",
       "    </tr>\n",
       "    <tr>\n",
       "      <th>8</th>\n",
       "      <td>Others</td>\n",
       "      <td>77</td>\n",
       "    </tr>\n",
       "  </tbody>\n",
       "</table>\n",
       "</div>"
      ],
      "text/plain": [
       "           Districts  Confirmed\n",
       "0            Kolkata         11\n",
       "1  North 24 Parganas          4\n",
       "2              Nadia          5\n",
       "3     Medinipur East          3\n",
       "4          Kalimpong          1\n",
       "5            Hooghly          1\n",
       "6             Howrah          1\n",
       "7  South 24 Parganas          1\n",
       "8             Others         77"
      ]
     },
     "execution_count": 53,
     "metadata": {},
     "output_type": "execute_result"
    }
   ],
   "source": [
    "dist_data = {'Districts':district_list, 'Confirmed':confirmed_list_dist}\n",
    "df_dist_data = pd.DataFrame(dist_data)\n",
    "df_dist_data.to_csv('dist_data.csv')\n",
    "df_dist_data.to_html('wb_data.html', border=3, index=False, justify = 'center')\n",
    "df_dist_data"
   ]
  },
  {
   "cell_type": "markdown",
   "metadata": {},
   "source": [
    "# West Bengal Daily"
   ]
  },
  {
   "cell_type": "code",
   "execution_count": 54,
   "metadata": {},
   "outputs": [],
   "source": [
    "api_url_states_daily = 'https://api.covid19india.org/states_daily.json'\n",
    "r_states_daily = requests.get(api_url_states_daily)\n",
    "data_states_daily = r_states_daily.json()"
   ]
  },
  {
   "cell_type": "code",
   "execution_count": 55,
   "metadata": {},
   "outputs": [
    {
     "data": {
      "text/plain": [
       "dict_keys(['states_daily'])"
      ]
     },
     "execution_count": 55,
     "metadata": {},
     "output_type": "execute_result"
    }
   ],
   "source": [
    "data_states_daily.keys()"
   ]
  },
  {
   "cell_type": "code",
   "execution_count": 56,
   "metadata": {},
   "outputs": [],
   "source": [
    "daily = data_states_daily.get('states_daily')"
   ]
  },
  {
   "cell_type": "code",
   "execution_count": 57,
   "metadata": {},
   "outputs": [],
   "source": [
    "westbengal_conf_list = []\n",
    "westbengal_rec_list = []\n",
    "westbengal_death_list = []\n",
    "westbengal_conf_date_list = []\n",
    "westbengal_rec_date_list = []\n",
    "westbengal_death_date_list = []\n",
    "\n",
    "for i in range(len(daily)):\n",
    "    status = daily[i].get('status')\n",
    "    if status == 'Confirmed':\n",
    "        westbengal_conf = daily[i].get('wb')\n",
    "        conf_date = daily[i].get('date')\n",
    "        conf_date = conf_date[0:-3]\n",
    "        westbengal_conf_list.append(westbengal_conf)\n",
    "        westbengal_conf_date_list.append(conf_date)\n",
    "        \n",
    "    if status == 'Recovered':\n",
    "        westbengal_rec = daily[i].get('wb')\n",
    "        rec_date = daily[i].get('date')\n",
    "        rec_date = rec_date[0:-3]\n",
    "        westbengal_rec_list.append(westbengal_rec)\n",
    "        westbengal_rec_date_list.append(rec_date)\n",
    "        \n",
    "    if status == 'Deceased':\n",
    "        westbengal_death = daily[i].get('wb')\n",
    "        death_date = daily[i].get('date')\n",
    "        death_date = death_date[0:-3]\n",
    "        westbengal_death_list.append(westbengal_death)\n",
    "        westbengal_death_date_list.append(death_date)"
   ]
  },
  {
   "cell_type": "code",
   "execution_count": 58,
   "metadata": {},
   "outputs": [],
   "source": [
    "westbengal_conf_list = np.array(westbengal_conf_list, dtype=int)\n",
    "westbengal_rec_list = np.array(westbengal_rec_list, dtype=int)\n",
    "westbengal_death_list = np.array(westbengal_death_list, dtype=int)"
   ]
  },
  {
   "cell_type": "code",
   "execution_count": 59,
   "metadata": {},
   "outputs": [],
   "source": [
    "# westbengal_conf_date_list.append('07-Apr')\n",
    "# westbengal_conf_list = np.append(westbengal_conf_list, (-np.sum(westbengal_conf_list) + confirmed_list[15]))\n",
    "# westbengal_rec_list = np.append(westbengal_rec_list, (-np.sum(westbengal_rec_list) + recovered_list[15]))\n",
    "# westbengal_death_list = np.append(westbengal_death_list, (-np.sum(westbengal_death_list) + deaths_list[15]))"
   ]
  },
  {
   "cell_type": "code",
   "execution_count": 60,
   "metadata": {},
   "outputs": [
    {
     "data": {
      "text/html": [
       "<div>\n",
       "<style scoped>\n",
       "    .dataframe tbody tr th:only-of-type {\n",
       "        vertical-align: middle;\n",
       "    }\n",
       "\n",
       "    .dataframe tbody tr th {\n",
       "        vertical-align: top;\n",
       "    }\n",
       "\n",
       "    .dataframe thead th {\n",
       "        text-align: right;\n",
       "    }\n",
       "</style>\n",
       "<table border=\"1\" class=\"dataframe\">\n",
       "  <thead>\n",
       "    <tr style=\"text-align: right;\">\n",
       "      <th></th>\n",
       "      <th>Date</th>\n",
       "      <th>westbengal_conf_list</th>\n",
       "      <th>westbengal_rec_list</th>\n",
       "      <th>westbengal_death_list</th>\n",
       "    </tr>\n",
       "  </thead>\n",
       "  <tbody>\n",
       "    <tr>\n",
       "      <th>0</th>\n",
       "      <td>14-Mar</td>\n",
       "      <td>0</td>\n",
       "      <td>0</td>\n",
       "      <td>0</td>\n",
       "    </tr>\n",
       "    <tr>\n",
       "      <th>1</th>\n",
       "      <td>15-Mar</td>\n",
       "      <td>0</td>\n",
       "      <td>0</td>\n",
       "      <td>0</td>\n",
       "    </tr>\n",
       "    <tr>\n",
       "      <th>2</th>\n",
       "      <td>16-Mar</td>\n",
       "      <td>0</td>\n",
       "      <td>0</td>\n",
       "      <td>0</td>\n",
       "    </tr>\n",
       "    <tr>\n",
       "      <th>3</th>\n",
       "      <td>17-Mar</td>\n",
       "      <td>1</td>\n",
       "      <td>0</td>\n",
       "      <td>0</td>\n",
       "    </tr>\n",
       "    <tr>\n",
       "      <th>4</th>\n",
       "      <td>18-Mar</td>\n",
       "      <td>0</td>\n",
       "      <td>0</td>\n",
       "      <td>0</td>\n",
       "    </tr>\n",
       "    <tr>\n",
       "      <th>5</th>\n",
       "      <td>19-Mar</td>\n",
       "      <td>0</td>\n",
       "      <td>0</td>\n",
       "      <td>0</td>\n",
       "    </tr>\n",
       "    <tr>\n",
       "      <th>6</th>\n",
       "      <td>20-Mar</td>\n",
       "      <td>1</td>\n",
       "      <td>0</td>\n",
       "      <td>0</td>\n",
       "    </tr>\n",
       "    <tr>\n",
       "      <th>7</th>\n",
       "      <td>21-Mar</td>\n",
       "      <td>2</td>\n",
       "      <td>0</td>\n",
       "      <td>0</td>\n",
       "    </tr>\n",
       "    <tr>\n",
       "      <th>8</th>\n",
       "      <td>22-Mar</td>\n",
       "      <td>3</td>\n",
       "      <td>0</td>\n",
       "      <td>0</td>\n",
       "    </tr>\n",
       "    <tr>\n",
       "      <th>9</th>\n",
       "      <td>23-Mar</td>\n",
       "      <td>0</td>\n",
       "      <td>0</td>\n",
       "      <td>1</td>\n",
       "    </tr>\n",
       "    <tr>\n",
       "      <th>10</th>\n",
       "      <td>24-Mar</td>\n",
       "      <td>2</td>\n",
       "      <td>0</td>\n",
       "      <td>0</td>\n",
       "    </tr>\n",
       "    <tr>\n",
       "      <th>11</th>\n",
       "      <td>25-Mar</td>\n",
       "      <td>0</td>\n",
       "      <td>0</td>\n",
       "      <td>0</td>\n",
       "    </tr>\n",
       "    <tr>\n",
       "      <th>12</th>\n",
       "      <td>26-Mar</td>\n",
       "      <td>1</td>\n",
       "      <td>0</td>\n",
       "      <td>0</td>\n",
       "    </tr>\n",
       "    <tr>\n",
       "      <th>13</th>\n",
       "      <td>27-Mar</td>\n",
       "      <td>5</td>\n",
       "      <td>0</td>\n",
       "      <td>0</td>\n",
       "    </tr>\n",
       "    <tr>\n",
       "      <th>14</th>\n",
       "      <td>28-Mar</td>\n",
       "      <td>3</td>\n",
       "      <td>0</td>\n",
       "      <td>0</td>\n",
       "    </tr>\n",
       "    <tr>\n",
       "      <th>15</th>\n",
       "      <td>29-Mar</td>\n",
       "      <td>3</td>\n",
       "      <td>0</td>\n",
       "      <td>0</td>\n",
       "    </tr>\n",
       "    <tr>\n",
       "      <th>16</th>\n",
       "      <td>30-Mar</td>\n",
       "      <td>1</td>\n",
       "      <td>0</td>\n",
       "      <td>1</td>\n",
       "    </tr>\n",
       "    <tr>\n",
       "      <th>17</th>\n",
       "      <td>31-Mar</td>\n",
       "      <td>15</td>\n",
       "      <td>3</td>\n",
       "      <td>1</td>\n",
       "    </tr>\n",
       "    <tr>\n",
       "      <th>18</th>\n",
       "      <td>01-Apr</td>\n",
       "      <td>0</td>\n",
       "      <td>0</td>\n",
       "      <td>0</td>\n",
       "    </tr>\n",
       "    <tr>\n",
       "      <th>19</th>\n",
       "      <td>02-Apr</td>\n",
       "      <td>16</td>\n",
       "      <td>0</td>\n",
       "      <td>0</td>\n",
       "    </tr>\n",
       "    <tr>\n",
       "      <th>20</th>\n",
       "      <td>03-Apr</td>\n",
       "      <td>0</td>\n",
       "      <td>0</td>\n",
       "      <td>0</td>\n",
       "    </tr>\n",
       "    <tr>\n",
       "      <th>21</th>\n",
       "      <td>04-Apr</td>\n",
       "      <td>0</td>\n",
       "      <td>0</td>\n",
       "      <td>0</td>\n",
       "    </tr>\n",
       "    <tr>\n",
       "      <th>22</th>\n",
       "      <td>05-Apr</td>\n",
       "      <td>27</td>\n",
       "      <td>7</td>\n",
       "      <td>0</td>\n",
       "    </tr>\n",
       "    <tr>\n",
       "      <th>23</th>\n",
       "      <td>06-Apr</td>\n",
       "      <td>0</td>\n",
       "      <td>0</td>\n",
       "      <td>0</td>\n",
       "    </tr>\n",
       "    <tr>\n",
       "      <th>24</th>\n",
       "      <td>07-Apr</td>\n",
       "      <td>11</td>\n",
       "      <td>3</td>\n",
       "      <td>0</td>\n",
       "    </tr>\n",
       "    <tr>\n",
       "      <th>25</th>\n",
       "      <td>08-Apr</td>\n",
       "      <td>8</td>\n",
       "      <td>0</td>\n",
       "      <td>2</td>\n",
       "    </tr>\n",
       "    <tr>\n",
       "      <th>26</th>\n",
       "      <td>09-Apr</td>\n",
       "      <td>4</td>\n",
       "      <td>3</td>\n",
       "      <td>0</td>\n",
       "    </tr>\n",
       "  </tbody>\n",
       "</table>\n",
       "</div>"
      ],
      "text/plain": [
       "      Date  westbengal_conf_list  westbengal_rec_list  westbengal_death_list\n",
       "0   14-Mar                     0                    0                      0\n",
       "1   15-Mar                     0                    0                      0\n",
       "2   16-Mar                     0                    0                      0\n",
       "3   17-Mar                     1                    0                      0\n",
       "4   18-Mar                     0                    0                      0\n",
       "5   19-Mar                     0                    0                      0\n",
       "6   20-Mar                     1                    0                      0\n",
       "7   21-Mar                     2                    0                      0\n",
       "8   22-Mar                     3                    0                      0\n",
       "9   23-Mar                     0                    0                      1\n",
       "10  24-Mar                     2                    0                      0\n",
       "11  25-Mar                     0                    0                      0\n",
       "12  26-Mar                     1                    0                      0\n",
       "13  27-Mar                     5                    0                      0\n",
       "14  28-Mar                     3                    0                      0\n",
       "15  29-Mar                     3                    0                      0\n",
       "16  30-Mar                     1                    0                      1\n",
       "17  31-Mar                    15                    3                      1\n",
       "18  01-Apr                     0                    0                      0\n",
       "19  02-Apr                    16                    0                      0\n",
       "20  03-Apr                     0                    0                      0\n",
       "21  04-Apr                     0                    0                      0\n",
       "22  05-Apr                    27                    7                      0\n",
       "23  06-Apr                     0                    0                      0\n",
       "24  07-Apr                    11                    3                      0\n",
       "25  08-Apr                     8                    0                      2\n",
       "26  09-Apr                     4                    3                      0"
      ]
     },
     "execution_count": 60,
     "metadata": {},
     "output_type": "execute_result"
    }
   ],
   "source": [
    "wb_data_daily = {'Date':westbengal_conf_date_list, 'westbengal_conf_list':westbengal_conf_list, 'westbengal_rec_list':westbengal_rec_list, 'westbengal_death_list':westbengal_death_list}\n",
    "df_wb_data_daily = pd.DataFrame(wb_data_daily)\n",
    "df_wb_data_daily.to_csv('wb_data_daily.csv')\n",
    "df_wb_data_daily.to_html('wb_data_daily.html', border=3, index=False, justify = 'center')\n",
    "df_wb_data_daily"
   ]
  },
  {
   "cell_type": "code",
   "execution_count": 61,
   "metadata": {},
   "outputs": [],
   "source": [
    "westbengal_conf_date_list_splitted = []\n",
    "for dt in westbengal_conf_date_list:\n",
    "    dt = dt[0:2]\n",
    "    westbengal_conf_date_list_splitted.append(dt)"
   ]
  },
  {
   "cell_type": "code",
   "execution_count": 62,
   "metadata": {},
   "outputs": [
    {
     "data": {
      "image/png": "[encoded data removed]",
      "text/plain": [
       "<Figure size 936x288 with 3 Axes>"
      ]
     },
     "metadata": {
      "needs_background": "light"
     },
     "output_type": "display_data"
    }
   ],
   "source": [
    "plt.figure(figsize = (13,4))\n",
    "\n",
    "plt.subplot(1,3,1)\n",
    "# plt.plot(westbengal_conf_date_list_splitted[-14:], westbengal_conf_list[-14:], color='blue', label=\"Daily Confirmations\")\n",
    "# plt.scatter(westbengal_conf_date_list_splitted[-14:], westbengal_conf_list[-14:], color='black')\n",
    "plt.bar(westbengal_conf_date_list_splitted[-day_range:], westbengal_conf_list[-day_range:], color='blue', label=\"Daily Confirmations\")\n",
    "plt.legend()\n",
    "plt.xlabel('Dates', fontsize=15)\n",
    "plt.ylabel('No. of Victims', fontsize=15)\n",
    "plt.tight_layout(1)\n",
    "\n",
    "plt.subplot(1,3,2)\n",
    "plt.bar(westbengal_conf_date_list_splitted[-day_range:], westbengal_rec_list[-day_range:], color='green', label=\"Daily Recovery\")\n",
    "plt.legend()\n",
    "plt.xlabel('Dates', fontsize=15)\n",
    "plt.ylabel('No. of Victims', fontsize=15)\n",
    "plt.tight_layout(1)\n",
    "\n",
    "plt.subplot(1,3,3)\n",
    "plt.bar(westbengal_conf_date_list_splitted[-day_range:], westbengal_death_list[-day_range:], color='red', label=\"Daily Death\")\n",
    "plt.legend()\n",
    "plt.xlabel('Dates', fontsize=15)\n",
    "plt.ylabel('No. of Victims', fontsize=15)\n",
    "plt.tight_layout(1)\n",
    "\n",
    "plt.savefig('westbengal.png')"
   ]
  },
  {
   "cell_type": "markdown",
   "metadata": {},
   "source": [
    "# HTML"
   ]
  },
  {
   "cell_type": "code",
   "execution_count": 63,
   "metadata": {},
   "outputs": [],
   "source": [
    "state_intro = \"\"\"\n",
    "<!DOCTYPE html>\n",
    "<html lang=\"en\" align=\"center\">\n",
    "<html>\n",
    "   <h1>\n",
    "      <title>Insights of Covid'19 in India</title>\n",
    "   </h1>\n",
    "   <body>\n",
    "       <h1><font size=\"10\"><u>Insights of Covid'19 in India</u></font></h1>\n",
    "       <h3>\n",
    "\"\"\"\n",
    "\n",
    "v = open(\"state_intro.html\",\"w\")\n",
    "v.write(state_intro)\n",
    "v.close()"
   ]
  },
  {
   "cell_type": "code",
   "execution_count": 64,
   "metadata": {},
   "outputs": [],
   "source": [
    "state_body = \"\"\"\n",
    "    </h3>\n",
    "    <body>\n",
    "       <br>Get the live information about the Novel Corona Virus spread in India. <br />\n",
    "       <br>Click <a href=\"https://telegra.ph/Data-Sources-for-Covidtracker-indiaml-04-05\"> here</a> to get the list of the data source.\n",
    "   </body>\n",
    "   <h3>\n",
    "   </h3>\n",
    "\"\"\"\n",
    "\n",
    "f = open(\"state_body.html\",\"w\")\n",
    "f.write(state_body)\n",
    "f.close()"
   ]
  },
  {
   "cell_type": "code",
   "execution_count": 65,
   "metadata": {},
   "outputs": [],
   "source": [
    "icmr_intro = \"\"\"\n",
    "<br>\n",
    "<br>\n",
    "   <h2>\n",
    "      <u>Data of last 14 days from the tests conducted by Indian Council of Medical Research(ICMR)</u>\n",
    "   </h2>\n",
    "\"\"\"\n",
    "\n",
    "l = open(\"icmr_intro.html\",\"w\")\n",
    "l.write(icmr_intro)\n",
    "l.close()"
   ]
  },
  {
   "cell_type": "code",
   "execution_count": 66,
   "metadata": {},
   "outputs": [],
   "source": [
    "icmr_stat = \"\"\"\n",
    "    <body>\n",
    "        <br><img src=\"ICMR_stat.png\" alt=\"ICMR Stat\"/>\n",
    "    </body>\n",
    "\"\"\"\n",
    "\n",
    "w = open(\"icmr_stat.html\",\"w\")\n",
    "w.write(icmr_stat)\n",
    "w.close()"
   ]
  },
  {
   "cell_type": "code",
   "execution_count": 67,
   "metadata": {},
   "outputs": [],
   "source": [
    "future_prediction_intro = \"\"\"\n",
    "<h2><u>Predicting the Future of India using Statistical Analysis</u></h2>\n",
    "<body>\n",
    "    <b>The below predictions are completely based on the daily data of confirmed cases from Media & Govt. Websites and the data from ICMR.\n",
    "    <br>If the current situation doesn't change with time, then these following predictions can be made.</b>\n",
    "</body>\n",
    "<br>\n",
    "<br>\n",
    "\"\"\"\n",
    "\n",
    "fpi = open(\"future_prediction_intro.html\",\"w\")\n",
    "fpi.write(future_prediction_intro)\n",
    "fpi.close()"
   ]
  },
  {
   "cell_type": "code",
   "execution_count": 68,
   "metadata": {},
   "outputs": [],
   "source": [
    "future_prediction_body = \"\"\"\n",
    "<body>\n",
    "    <br>The above prediction using the data from ICMR is based on time but now, predicting the Total Number of Confirmations based on Total number of samples tested.\n",
    "    <br>Using the data from ICMR, a linear statistical model is predicting the number of confirmations in India based on Total Number of Samples Tested.\n",
    "    <br>The predictions are made by considering the current situation of India doesnot change with respect to time.\n",
    "    <br>\n",
    "    <br>If ICMR tests <b>\"\"\" + str(test_world[0]) + \"\"\"</b> samples, then India may have approximately <b>\"\"\" + str(y_pred[0]) + \"\"\"</b> confirmed cases, compared to <b>\"\"\" + str(location[0]) + \"\"\"</b> which has approximately <b>\"\"\" + str(conf_world[0]) + \"\"\"</b> confirmed cases.\n",
    "    <br>If ICMR tests <b>\"\"\" + str(test_world[1]) + \"\"\"</b> samples, then India may have approximately <b>\"\"\" + str(y_pred[1]) + \"\"\"</b> confirmed cases, compared to <b>\"\"\" + str(location[1]) + \"\"\"</b> which has approximately <b>\"\"\" + str(conf_world[1]) + \"\"\"</b> confirmed cases.\n",
    "    <br>If ICMR tests <b>\"\"\" + str(test_world[2]) + \"\"\"</b> samples, then India may have approximately <b>\"\"\" + str(y_pred[2]) + \"\"\"</b> confirmed cases, compared to <b>\"\"\" + str(location[2]) + \"\"\"</b> which has approximately <b>\"\"\" + str(conf_world[2]) + \"\"\"</b> confirmed cases.\n",
    "    <br>If ICMR tests <b>\"\"\" + str(test_world[3]) + \"\"\"</b> samples, then India may have approximately <b>\"\"\" + str(y_pred[3]) + \"\"\"</b> confirmed cases, compared to <b>\"\"\" + str(location[3]) + \"\"\"</b> which has approximately <b>\"\"\" + str(conf_world[3]) + \"\"\"</b> confirmed cases.\n",
    "    <br>\n",
    "    <br>From these above predictions, let's have a look at how good or bad India is fighting against The Novel Corona Virus.\n",
    "    <br>\n",
    "    <br><img src=\"compare.png\" alt=\"Comparison\"/>\n",
    "</body>\n",
    "\"\"\"\n",
    "\n",
    "ai_body = open(\"future_prediction_body.html\",\"w\")\n",
    "ai_body.write(future_prediction_body)\n",
    "ai_body.close()"
   ]
  },
  {
   "cell_type": "code",
   "execution_count": 69,
   "metadata": {},
   "outputs": [],
   "source": [
    "state_stat_intro = \"\"\"\n",
    "<br>\n",
    "    <h2>\n",
    "      <u>Real Time Analysis of the trend of Covid'19 spread in India using the data of last 14 days</u>\n",
    "    </h2>\n",
    "\"\"\"\n",
    "\n",
    "o = open(\"state_stat_intro.html\",\"w\")\n",
    "o.write(state_stat_intro)\n",
    "o.close()"
   ]
  },
  {
   "cell_type": "code",
   "execution_count": 70,
   "metadata": {},
   "outputs": [],
   "source": [
    "state_stat = \"\"\"\n",
    "    <body>\n",
    "      <br><img src=\"plot1.png\" alt=\"Different Scale\"/>\n",
    "      <img src=\"plot2.png\" alt=\"Normalized Scale\"/>\n",
    "   </body>\n",
    "\"\"\"\n",
    "\n",
    "g = open(\"state_stat.html\",\"w\")\n",
    "g.write(state_stat)\n",
    "g.close()"
   ]
  },
  {
   "cell_type": "code",
   "execution_count": 71,
   "metadata": {},
   "outputs": [],
   "source": [
    "wb_intro = \"\"\"\n",
    "<br>\n",
    "<br>\n",
    "    <h1>\n",
    "        <u>Effects of Covid'19 in West Bengal</u>\n",
    "    </h1>\n",
    "\"\"\"\n",
    "h = open(\"wb_intro.html\",\"w\")\n",
    "h.write(wb_intro)\n",
    "h.close()"
   ]
  },
  {
   "cell_type": "code",
   "execution_count": 72,
   "metadata": {},
   "outputs": [],
   "source": [
    "wb_stat = \"\"\"\n",
    "    <h2>\n",
    "        <br><u>Analysing the trend of Covid'19 in West Bengal using the data of last 14 days</u>\n",
    "        <br><img src=\"westbengal.png\" alt=\"West Bengal\"/>\n",
    "    </h2>\n",
    "\"\"\"\n",
    "\n",
    "q = open(\"wb_stat.html\",\"w\")\n",
    "q.write(wb_stat)\n",
    "q.close()"
   ]
  },
  {
   "cell_type": "code",
   "execution_count": 73,
   "metadata": {},
   "outputs": [],
   "source": [
    "end = \"\"\"\n",
    "    <p>\n",
    "        Made by <a href=\"https://github.com/sudo-rajarshi\">Rajarshi Bhadra</a>\n",
    "    </p>\n",
    "</html> \n",
    "\"\"\"\n",
    "e = open(\"end.html\",\"w\")\n",
    "e.write(end)\n",
    "e.close()"
   ]
  },
  {
   "cell_type": "code",
   "execution_count": 79,
   "metadata": {},
   "outputs": [],
   "source": [
    "now = datetime.now()\n",
    "dt_string = now.strftime(\"%d/%m/%Y at %H:%M:%S\")\n",
    "\n",
    "with open('state_intro.html') as fp: \n",
    "    data1 = fp.read()\n",
    "\n",
    "with open('state_body.html') as fp: \n",
    "    data2 = fp.read() \n",
    "    data2 = data2[:103] + '<br>Last updated on ' + str(dt_string) + data2[103:]\n",
    "    \n",
    "with open('total_data.html') as fp: \n",
    "    data3 = fp.read() \n",
    "    data3 = data3[:35] + str(' align=\"center\"') + data3[35:]\n",
    "    \n",
    "with open('State_data.html') as fp: \n",
    "    data4 = fp.read() \n",
    "    data4 = \"\\n<br>\\n\" + data4[:35] + str(' align=\"center\"') + data4[35:]\n",
    "  \n",
    "with open('icmr_intro.html') as fp:\n",
    "    data5 = fp.read()\n",
    "    \n",
    "with open('ICMR_report_data.html') as fp:\n",
    "    data6 = fp.read()\n",
    "    data6 = data6[:35] + str(' align=\"center\"') + data6[35:]\n",
    "    \n",
    "with open('icmr_stat.html') as fp:\n",
    "    data7 = fp.read()\n",
    "        \n",
    "with open('state_stat_intro.html') as fp: \n",
    "    data8 = fp.read() \n",
    "    \n",
    "with open('daily_data.html') as fp: \n",
    "    data9 = fp.read() \n",
    "    data9 = data9[:35] + str(' align=\"center\"') + data9[35:]\n",
    "\n",
    "with open('state_stat.html') as fp:\n",
    "    data10 = fp.read()\n",
    "    \n",
    "with open('future_prediction_intro.html') as fp:\n",
    "    data11 = fp.read()\n",
    "    \n",
    "with open('pred_icmr_ts.html') as fp: \n",
    "    data12 = fp.read() \n",
    "    data12 = data12[:35] + str(' align=\"center\"') + data12[35:]\n",
    "    \n",
    "with open('future_prediction_body.html') as fp:\n",
    "    data13 = fp.read()\n",
    "\n",
    "with open('wb_intro.html') as fp:\n",
    "    data14 = fp.read()\n",
    "\n",
    "with open('wb_state_data.html') as fp:\n",
    "    data15 = fp.read()\n",
    "    data15 = data15[:35] + str(' align=\"center\"') + data15[35:]\n",
    "\n",
    "with open('wb_data.html') as fp:\n",
    "    data16 = fp.read()\n",
    "    data16 = \"\\n<br>\\n\" + data16[:35] + str(' align=\"center\"') + data16[35:]\n",
    "\n",
    "with open('wb_stat.html') as fp:\n",
    "    data17 = fp.read()\n",
    "    \n",
    "with open('end.html') as fp:\n",
    "    end_data = fp.read()\n",
    "\n",
    "    \n",
    "data = data1 + data2 + data3 + data4 + data5 + data6 + data7 + data8 + data9 + data10 + data11 + data12 + data13 + end_data\n",
    "  \n",
    "with open ('index.html', 'w') as fp: \n",
    "    fp.write(data) "
   ]
  },
  {
   "cell_type": "markdown",
   "metadata": {},
   "source": [
    "# Check for Errors:"
   ]
  },
  {
   "cell_type": "markdown",
   "metadata": {},
   "source": [
    "### Confirmation of State data and Total Data"
   ]
  },
  {
   "cell_type": "code",
   "execution_count": 80,
   "metadata": {},
   "outputs": [
    {
     "name": "stdout",
     "output_type": "stream",
     "text": [
      "True\n",
      "True\n",
      "True\n",
      "True\n"
     ]
    }
   ],
   "source": [
    "# Confirmed\n",
    "if np.sum(confirmed_list[1:]) == np.sum(confirmed_list[0]):\n",
    "    print(True)\n",
    "else:\n",
    "    print(np.sum(confirmed_list[1:]))\n",
    "    print(np.sum(confirmed_list[0]))\n",
    "\n",
    "# Active\n",
    "if np.sum(active[1:]) == np.sum(active[0]):\n",
    "    print(True)\n",
    "else:\n",
    "    print(np.sum(active[1:]))\n",
    "    print(np.sum(active[0]))\n",
    "\n",
    "# Recovered\n",
    "if np.sum(recovered_list[1:]) == np.sum(recovered_list[0]):\n",
    "    print(True)\n",
    "else:\n",
    "    print(np.sum(recovered_list[1:]))\n",
    "    print(np.sum(recovered_list[0]))    \n",
    "\n",
    "# Death\n",
    "if np.sum(deaths_list[1:]) == np.sum(deaths_list[0]):\n",
    "    print(True)\n",
    "else:\n",
    "    print(np.sum(deaths_list[1:]))\n",
    "    print(np.sum(deaths_list[0]))    "
   ]
  },
  {
   "cell_type": "markdown",
   "metadata": {},
   "source": [
    "### Confirmation Check bewtween State Data, Total Data & Daily Data"
   ]
  },
  {
   "cell_type": "code",
   "execution_count": 81,
   "metadata": {},
   "outputs": [
    {
     "name": "stdout",
     "output_type": "stream",
     "text": [
      "True\n",
      "True\n",
      "True\n",
      "True\n",
      "True\n",
      "True\n"
     ]
    }
   ],
   "source": [
    "# Confirmed\n",
    "if totalconfirmed_list[-2] + dailyconfirmed_list[-1] == totalconfirmed_list[-1]:\n",
    "    print(True)\n",
    "else:\n",
    "    print(totalconfirmed_list[-2] + dailyconfirmed_list[-1])\n",
    "    print(totalconfirmed_list[-1])\n",
    "\n",
    "if totalconfirmed_list[-1] == confirmed_list[0]:\n",
    "    print(True)\n",
    "else:\n",
    "    print(totalconfirmed_list[-1])\n",
    "    print(confirmed_list[0])\n",
    "\n",
    "# Recovered\n",
    "if totalrecovered_list[-2] + dailyrecovered_list[-1] == totalrecovered_list[-1]:\n",
    "    print(True)\n",
    "else:\n",
    "    print(totalrecovered_list[-2] + dailyrecovered_list[-1])\n",
    "    print(totalrecovered_list[-1])\n",
    "\n",
    "if totalrecovered_list[-1] == recovered_list[0]:\n",
    "    print(True)\n",
    "else:\n",
    "    print(totalconfirmed_list[-1])\n",
    "    print(confirmed_list[0])\n",
    "\n",
    "# Death\n",
    "if totaldeceased_list[-2] + dailydeceased_list[-1] == totaldeceased_list[-1]:\n",
    "    print(True)\n",
    "else:\n",
    "    print(totaldeceased_list[-2] + dailyconfirmed_list[-1])\n",
    "    print(totaldeceased_list[-1])\n",
    "\n",
    "if totaldeceased_list[-1] == deaths_list[0]:\n",
    "    print(True)\n",
    "else:\n",
    "    print(totaldeceased_list[-1])\n",
    "    print(deaths_list[0])"
   ]
  },
  {
   "cell_type": "markdown",
   "metadata": {},
   "source": [
    "### West Bengal Data"
   ]
  },
  {
   "cell_type": "code",
   "execution_count": 82,
   "metadata": {},
   "outputs": [
    {
     "name": "stdout",
     "output_type": "stream",
     "text": [
      "103\n",
      "117\n",
      "104\n",
      "117\n",
      "True\n",
      "True\n"
     ]
    }
   ],
   "source": [
    "# Confirmed\n",
    "if np.sum(westbengal_conf_list) == confirmed_list[15]:\n",
    "    print(True)\n",
    "else:\n",
    "    print(np.sum(westbengal_conf_list))\n",
    "    print(confirmed_list[15])\n",
    "    \n",
    "if np.sum(confirmed_list_dist) == confirmed_list[15]:\n",
    "    print(True)\n",
    "else:\n",
    "    print(np.sum(confirmed_list_dist))\n",
    "    print(confirmed_list[15])\n",
    "\n",
    "# Recovery\n",
    "if np.sum(westbengal_rec_list) == recovered_list[15]:\n",
    "    print(True)\n",
    "else:\n",
    "    print(np.sum(westbengal_rec_list))\n",
    "    print(recovered_list[15])\n",
    "\n",
    "# Death\n",
    "if np.sum(westbengal_death_list) == deaths_list[15]:\n",
    "    print(True)\n",
    "else:\n",
    "    print(np.sum(westbengal_death_list))\n",
    "    print(deaths_list[15])"
   ]
  },
  {
   "cell_type": "code",
   "execution_count": null,
   "metadata": {},
   "outputs": [],
   "source": []
  }
 ],
 "metadata": {
  "kernelspec": {
   "display_name": "Python 3.7.5 64-bit",
   "language": "python",
   "name": "python37564bit09a3588b95bd489097dcf83786d123ad"
  },
  "language_info": {
   "codemirror_mode": {
    "name": "ipython",
    "version": 3
   },
   "file_extension": ".py",
   "mimetype": "text/x-python",
   "name": "python",
   "nbconvert_exporter": "python",
   "pygments_lexer": "ipython3",
   "version": "3.7.5"
  }
 },
 "nbformat": 4,
 "nbformat_minor": 2
}
